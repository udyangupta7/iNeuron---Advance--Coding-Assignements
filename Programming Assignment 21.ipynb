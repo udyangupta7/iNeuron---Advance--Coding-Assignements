{
 "cells": [
  {
   "cell_type": "markdown",
   "id": "6c431e1e",
   "metadata": {},
   "source": [
    "# Programming Assignment 21:\n",
    "\n",
    "#### Question 1: Given a sentence, return the number of words which have the same first and last letter.\n",
    "\n",
    "Examples:\n",
    "\n",
    "i. count_same_ends(\"Pop! goes the balloon\") ➞ 1\n",
    "\n",
    "ii. count_same_ends(\"And the crowd goes wild!\") ➞ 0\n",
    "\n",
    "iii. count_same_ends(\"No I am not in a gang.\") ➞ 1\n",
    "\n",
    "#### Answer 1:"
   ]
  },
  {
   "cell_type": "code",
   "execution_count": 1,
   "id": "dd2b2225",
   "metadata": {},
   "outputs": [
    {
     "data": {
      "text/plain": [
       "1"
      ]
     },
     "execution_count": 1,
     "metadata": {},
     "output_type": "execute_result"
    }
   ],
   "source": [
    "def only_alpha(string):\n",
    "    new=\"\"\n",
    "    for i in string:\n",
    "        if i.isalpha():\n",
    "            new +=i\n",
    "    return new\n",
    "def count_same_ends(s):\n",
    "    s=s.lower()\n",
    "    s=s.split(\" \")\n",
    "    count=0\n",
    "    s=[only_alpha(i) for i in s]\n",
    "    for i in s:\n",
    "        if i[0]==i[-1]:\n",
    "            if len(i) > 1:\n",
    "                count+=1\n",
    "    return count\n",
    "\n",
    "count_same_ends(\"Pop! goes the balloon\")"
   ]
  },
  {
   "cell_type": "code",
   "execution_count": 2,
   "id": "fc767240",
   "metadata": {},
   "outputs": [
    {
     "data": {
      "text/plain": [
       "0"
      ]
     },
     "execution_count": 2,
     "metadata": {},
     "output_type": "execute_result"
    }
   ],
   "source": [
    "count_same_ends(\"And the crowd goes wild!\")"
   ]
  },
  {
   "cell_type": "code",
   "execution_count": 3,
   "id": "b5f8d107",
   "metadata": {},
   "outputs": [
    {
     "data": {
      "text/plain": [
       "1"
      ]
     },
     "execution_count": 3,
     "metadata": {},
     "output_type": "execute_result"
    }
   ],
   "source": [
    "count_same_ends(\"No I am not in a gang.\")"
   ]
  },
  {
   "cell_type": "markdown",
   "id": "55840ffa",
   "metadata": {},
   "source": [
    "#### Question 2: The Atbash cipher is an encryption method in which each letter of a word is replaced with its \"mirror\" letter in the alphabet: A <=> Z; B <=> Y; C <=> X; etc. Create a function that takes a string and applies the Atbash cipher to it.\n",
    "\n",
    "Examples:\n",
    "\n",
    "i. atbash(\"apple\") ➞ \"zkkov\"\n",
    "\n",
    "ii. atbash(\"Hello world!\") ➞ \"Svool dliow!\"\n",
    "\n",
    "iii. atbash(\"Christmas is the 25th of December\") ➞ \"Xsirhgnzh rh gsv 25gs lu Wvxvnyvi\"\n",
    "\n",
    "#### Answer 2: "
   ]
  },
  {
   "cell_type": "code",
   "execution_count": 4,
   "id": "0c566bce",
   "metadata": {},
   "outputs": [
    {
     "data": {
      "text/plain": [
       "'zkkov'"
      ]
     },
     "execution_count": 4,
     "metadata": {},
     "output_type": "execute_result"
    }
   ],
   "source": [
    "def atbash(string):\n",
    "    n = ord('z') + ord('a')\n",
    "    N = ord('A') + ord('Z')\n",
    "    ans=''\n",
    "    string=string.split(\" \")\n",
    "    for s in string:\n",
    "        for i in s:\n",
    "            if i.isalpha(): \n",
    "                if i.isupper():\n",
    "                    ans+=(chr(N-ord(i)))\n",
    "                else:\n",
    "                    ans+=(chr(n-ord(i)))\n",
    "            \n",
    "            else:\n",
    "                ans+=i\n",
    "        ans+=\" \"\n",
    "    ans=ans[:-1]\n",
    "    return ans\n",
    "\n",
    "atbash(\"apple\")"
   ]
  },
  {
   "cell_type": "code",
   "execution_count": 5,
   "id": "b39aa61e",
   "metadata": {},
   "outputs": [
    {
     "data": {
      "text/plain": [
       "'Svool dliow!'"
      ]
     },
     "execution_count": 5,
     "metadata": {},
     "output_type": "execute_result"
    }
   ],
   "source": [
    "atbash(\"Hello world!\")"
   ]
  },
  {
   "cell_type": "code",
   "execution_count": 8,
   "id": "357402b9",
   "metadata": {},
   "outputs": [
    {
     "data": {
      "text/plain": [
       "'Xsirhgnzh rh gsv 25gs lu Wvxvnyvi'"
      ]
     },
     "execution_count": 8,
     "metadata": {},
     "output_type": "execute_result"
    }
   ],
   "source": [
    "atbash(\"Christmas is the 25th of December\")"
   ]
  },
  {
   "cell_type": "markdown",
   "id": "38604c8e",
   "metadata": {},
   "source": [
    "#### Question 3: Create a class Employee that will take a full name as argument, as well as a set of none, one or more keywords. Each instance should have a name and a lastname attributes plus one more attribute for each of the keywords, if any.\n",
    "\n",
    "Examples\n",
    "\n",
    "i. john = Employee(\"John Doe\")\n",
    "ii. mary = Employee(\"Mary Major\", salary=120000)\n",
    "ii. richard = Employee(\"Richard Roe\", salary=110000, height=178)\n",
    "\n",
    "giancarlo = Employee(\"Giancarlo Rossi\", salary=115000, height=182, nationality=\"Italian\")\n",
    "\n",
    "i. john.name ➞ \"John\"\n",
    "ii. mary.lastname ➞ \"Major\"\n",
    "iii. richard.height ➞ 178\n",
    "iv. giancarlo.nationality ➞ \"Italian\"\n",
    "\n",
    "#### Answer 3: "
   ]
  },
  {
   "cell_type": "code",
   "execution_count": 9,
   "id": "1218d0ef",
   "metadata": {},
   "outputs": [],
   "source": [
    "class Employee:\n",
    "    def __init__(self, full_name, **kwargs):\n",
    "        self.name = full_name.split(' ')[0]\n",
    "        self.lastname = full_name.split(' ')[-1] \n",
    "        for var in kwargs:\n",
    "            if isinstance(kwargs[var], str):\n",
    "                exec(\"self.{0} = '{1}'\".format(var,kwargs[var]))\n",
    "            else:\n",
    "                exec(\"self.{0} = {1}\".format(var,kwargs[var]))\n",
    "    \n",
    "john = Employee(\"John Doe\")\n",
    "mary = Employee(\"Mary Major\", salary=120000)\n",
    "richard = Employee(\"Richard Roe\", salary=110000, height=178)\n",
    "giancarlo = Employee(\"Giancarlo Rossi\", salary=115000, height=182, nationality=\"Italian\")"
   ]
  },
  {
   "cell_type": "code",
   "execution_count": 10,
   "id": "c90f3274",
   "metadata": {},
   "outputs": [
    {
     "name": "stdout",
     "output_type": "stream",
     "text": [
      "John\n",
      "Major\n",
      "178\n",
      "Italian\n"
     ]
    }
   ],
   "source": [
    "print(john.name) \n",
    "print(mary.lastname)\n",
    "print(richard.height)\n",
    "print(giancarlo.nationality)"
   ]
  },
  {
   "cell_type": "markdown",
   "id": "f2ae540f",
   "metadata": {},
   "source": [
    "#### Question 4:  Create a function that determines whether each seat can \"see\" the front-stage. A number can \"see\" the front-stage if it is strictly greater than the number before it.\n",
    "Everyone can see the front-stage in the example below:\n",
    "\n",
    "FRONT STAGE\n",
    "\n",
    "[[1, 2, 3, 2, 1, 1],\n",
    "[2, 4, 4, 3, 2, 2],\n",
    "[5, 5, 5, 5, 4, 4],\n",
    "[6, 6, 7, 6, 5, 5]]\n",
    "\n",
    " Starting from the left, the 6 > 5 > 2 > 1, so all numbers can see.\n",
    " 6 > 5 > 4 > 2 - so all numbers can see, etc.\n",
    "\n",
    "Not everyone can see the front-stage in the example below:\n",
    "\n",
    "FRONT STAGE\n",
    "\n",
    "[[1, 2, 3, 2, 1, 1], \n",
    "[2, 4, 4, 3, 2, 2], \n",
    "[5, 5, 5, 10, 4, 4], \n",
    "[6, 6, 7, 6, 5, 5]]\n",
    "\n",
    "The 10 is directly in front of the 6 and blocking its view.\n",
    "\n",
    "The function should return True if every number can see the front-stage, and False if even a single number cannot.\n",
    "\n",
    "Examples:\n",
    "\n",
    "i. can_see_stage([\n",
    "  [1, 2, 3],\n",
    "  [4, 5, 6],\n",
    "  [7, 8, 9]\n",
    "]) ➞ True\n",
    "\n",
    "ii. can_see_stage([\n",
    "  [0, 0, 0],\n",
    "  [1, 1, 1],\n",
    "  [2, 2, 2]\n",
    "]) ➞ True\n",
    "\n",
    "iii. can_see_stage([\n",
    "  [2, 0, 0], \n",
    "  [1, 1, 1], \n",
    "  [2, 2, 2]\n",
    "]) ➞ False\n",
    "\n",
    "iv. can_see_stage([\n",
    "  [1, 0, 0],\n",
    "  [1, 1, 1],\n",
    "  [2, 2, 2]\n",
    "]) ➞ False\n",
    "\n",
    "Number must be strictly smaller than the number directly behind it.\n",
    "\n",
    "#### Answer 4:"
   ]
  },
  {
   "cell_type": "code",
   "execution_count": 11,
   "id": "46cb3618",
   "metadata": {},
   "outputs": [
    {
     "data": {
      "text/plain": [
       "True"
      ]
     },
     "execution_count": 11,
     "metadata": {},
     "output_type": "execute_result"
    }
   ],
   "source": [
    "def can_see_stage(mat):\n",
    "    for i in range(len(mat[0])):\n",
    "        new = True\n",
    "        for j in range(len(mat)-1,-1,-1):\n",
    "            if new == True:\n",
    "                max = mat[j][i]\n",
    "                new = False\n",
    "            elif (max<=mat[j][i]):\n",
    "                return False\n",
    "            else:\n",
    "                max = mat[j][i]\n",
    "            if j == 0:\n",
    "                new = True\n",
    "\n",
    "    return True\n",
    "\n",
    "can_see_stage([\n",
    "  [1, 2, 3],\n",
    "  [4, 5, 6],\n",
    "  [7, 8, 9]\n",
    "])"
   ]
  },
  {
   "cell_type": "code",
   "execution_count": 12,
   "id": "992ce3e1",
   "metadata": {},
   "outputs": [
    {
     "data": {
      "text/plain": [
       "False"
      ]
     },
     "execution_count": 12,
     "metadata": {},
     "output_type": "execute_result"
    }
   ],
   "source": [
    "can_see_stage([\n",
    "  [2, 0, 0], \n",
    "  [1, 1, 1], \n",
    "  [2, 2, 2]\n",
    "])"
   ]
  },
  {
   "cell_type": "code",
   "execution_count": 13,
   "id": "de50dc9a",
   "metadata": {},
   "outputs": [
    {
     "data": {
      "text/plain": [
       "False"
      ]
     },
     "execution_count": 13,
     "metadata": {},
     "output_type": "execute_result"
    }
   ],
   "source": [
    "can_see_stage([\n",
    "  [1, 0, 0],\n",
    "  [1, 1, 1],\n",
    "  [2, 2, 2]\n",
    "])"
   ]
  },
  {
   "cell_type": "markdown",
   "id": "eb918ce1",
   "metadata": {},
   "source": [
    "#### Question 5: Create a Pizza class with the attributes order_number and ingredients (which is given as a list). Only the ingredients will be given as input.\n",
    "\n",
    "You should also make it so that its possible to choose a ready made pizza flavour rather than typing out the ingredients manually! As well as creating this Pizza class, hard-code the following pizza flavours.\n",
    "\n",
    "Name                        Ingredients\n",
    "hawaiian              ham, pineapple\n",
    "meat_festival   beef, meatball, bacon\n",
    "garden_feast    spinach, olives, mushroom\n",
    "\n",
    "Examples:\n",
    "\n",
    "i. p1 = Pizza([\"bacon\", \"parmesan\", \"ham\"])    # order 1\n",
    "\n",
    "p1.ingredients ➞ [\"bacon\", \"parmesan\", \"ham\"]\n",
    "\n",
    "p1.order_number ➞ 1\n",
    "\n",
    "ii. p2 = Pizza.garden_feast()                  # order 2\n",
    "\n",
    "p2.ingredients ➞ [\"spinach\", \"olives\", \"mushroom\"]\n",
    "\n",
    "p2.order_number ➞ 2\n",
    "\n",
    "#### Answer 5: "
   ]
  },
  {
   "cell_type": "code",
   "execution_count": 16,
   "id": "d9ff806d",
   "metadata": {},
   "outputs": [],
   "source": [
    "order_number = 0\n",
    "class Pizza:\n",
    "    def __init__(self, *ingrd):\n",
    "        global order_number\n",
    "        order_number += 1\n",
    "        self.order_number = order_number\n",
    "        self.ingredients = ingrd[0]\n",
    "        \n",
    "    @classmethod\n",
    "    def garden_feast(self):\n",
    "        global order_number\n",
    "        order_number += 1\n",
    "        self.order_number = order_number\n",
    "        self.ingredients = [\"spinach\", \"olives\", \"mushroom\"]\n",
    "        return self\n",
    "        \n",
    "    @classmethod\n",
    "    def meat_festival(self):\n",
    "        global order_number\n",
    "        order_number += 1\n",
    "        self.order_number = order_number\n",
    "        self.ingredients = ['beef', 'meatball', 'bacon']\n",
    "        return self\n",
    "    \n",
    "    @classmethod    \n",
    "    def hawaiian(self):\n",
    "        global order_number\n",
    "        order_number += 1\n",
    "        self.order_number = order_number\n",
    "        self.ingredients = ['ham', 'pineapple']\n",
    "        return self\n",
    "    \n",
    "p1 = Pizza([\"bacon\", \"parmesan\", \"ham\"])    # order 1\n",
    "p2 = Pizza.garden_feast()                  # order 2"
   ]
  },
  {
   "cell_type": "code",
   "execution_count": 17,
   "id": "d0be5f3c",
   "metadata": {},
   "outputs": [
    {
     "name": "stdout",
     "output_type": "stream",
     "text": [
      "['bacon', 'parmesan', 'ham']\n",
      "1\n"
     ]
    }
   ],
   "source": [
    "print(p1.ingredients)\n",
    "print(p1.order_number)"
   ]
  },
  {
   "cell_type": "code",
   "execution_count": 18,
   "id": "39d10737",
   "metadata": {},
   "outputs": [
    {
     "name": "stdout",
     "output_type": "stream",
     "text": [
      "['spinach', 'olives', 'mushroom']\n",
      "2\n"
     ]
    }
   ],
   "source": [
    "print(p2.ingredients)\n",
    "print(p2.order_number)"
   ]
  }
 ],
 "metadata": {
  "kernelspec": {
   "display_name": "Python 3",
   "language": "python",
   "name": "python3"
  },
  "language_info": {
   "codemirror_mode": {
    "name": "ipython",
    "version": 3
   },
   "file_extension": ".py",
   "mimetype": "text/x-python",
   "name": "python",
   "nbconvert_exporter": "python",
   "pygments_lexer": "ipython3",
   "version": "3.7.10"
  }
 },
 "nbformat": 4,
 "nbformat_minor": 5
}
