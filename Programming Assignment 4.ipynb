{
 "cells": [
  {
   "attachments": {
    "image.png": {
     "image/png": "[encoded data removed]"
    }
   },
   "cell_type": "markdown",
   "id": "394af59e",
   "metadata": {},
   "source": [
    "# Programming Assignment 4\n",
    "\n",
    "#### Q1: In mathematics, the Fibonacci numbers, commonly denoted Fn, form a sequence, called the Fibonacci sequence, such that each number is the sum of the two preceding ones, starting from 0 and 1:\n",
    "\n",
    "![image.png](attachment:image.png)\n",
    "\n",
    "The beginning of the sequence is this: 0, 1, 1, 2, 3, 5, 8, 13, 21, 34, 55, 89, 144, ...\n",
    "\n",
    "The function fastFib(num) returns the fibonacci number Fn, of the given num as an argument.\n",
    "\n",
    "Ex:\n",
    "\n",
    "1. fib_fast(5) ➞ 5\n",
    "\n",
    "2. fib_fast(10) ➞ 55\n",
    "\n",
    "3. fib_fast(20) ➞ 6765\n",
    "\n",
    "3. fib_fast(50) ➞ 12586269025\n",
    "\n",
    "#### A4:"
   ]
  },
  {
   "cell_type": "code",
   "execution_count": 98,
   "id": "13ec0b51",
   "metadata": {},
   "outputs": [
    {
     "name": "stdout",
     "output_type": "stream",
     "text": [
      "Enter a number to calculate it's fibnacci series- 20\n",
      "The fibonacci number is- 6765\n"
     ]
    }
   ],
   "source": [
    "def fib_fast():\n",
    "    if n <= 1:\n",
    "        return n\n",
    "    return fib(n - 1) + fib(n - 2)\n",
    "if __name__ == '__main__':\n",
    "    n = int(input(\"Enter a number to calculate it's fibnacci series- \"))\n",
    "    print(\"The fibonacci number is-\",fib(n))"
   ]
  },
  {
   "cell_type": "markdown",
   "id": "6add6615",
   "metadata": {},
   "source": [
    "#### Q2: Create a function that takes a strings characters as ASCII and returns each characters hexadecimal value as a string.\n",
    "\n",
    "Ex:\n",
    "\n",
    "1. convert_to_hex(\"hello world\") ➞ \"68 65 6c 6c 6f 20 77 6f 72 6c 64\"\n",
    "\n",
    "2. convert_to_hex(\"Big Boi\") ➞ \"42 69 67 20 42 6f 69\"\n",
    "\n",
    "3. convert_to_hex(\"Marty Poppinson\") ➞ \"4d 61 72 74 79 20 50 6f 70 70 69 6e 73 6f 6e\"\n",
    "\n",
    "#### A2:"
   ]
  },
  {
   "cell_type": "code",
   "execution_count": 22,
   "id": "fcdc1107",
   "metadata": {},
   "outputs": [
    {
     "name": "stdout",
     "output_type": "stream",
     "text": [
      "68 65 6c 6c 6f 20 77 6f 72 6c 64 \n",
      "42 69 67 20 42 6f 69 \n",
      "4d 61 72 74 79 20 50 6f 70 70 69 6e 73 6f 6e \n",
      "54 65 72 6d 69 6e 61 74 6f 72 20 73 68 61 6c 6c 20 72 69 73 65 20 61 67 61 69 6e 21 \n"
     ]
    }
   ],
   "source": [
    "def ASCIItoHEX(ascii):\n",
    "    hexa = \"\"\n",
    "    for i in range(len(ascii)):\n",
    "        ch = ascii[i]\n",
    "        in1 = ord(ch)\n",
    "        part = hex(in1).lstrip(\"0x\").rstrip(\"L\")\n",
    "        hexa += part+\" \"\n",
    "    return hexa\n",
    "if __name__ == '__main__':\n",
    "    print(ASCIItoHEX(\"hello world\"))\n",
    "    print(ASCIItoHEX(\"Big Boi\"))\n",
    "    print(ASCIItoHEX(\"Marty Poppinson\"))\n",
    "    print(ASCIItoHEX(\"Terminator shall rise again!\"))"
   ]
  },
  {
   "cell_type": "markdown",
   "id": "92664c68",
   "metadata": {},
   "source": [
    "#### Q3: Someone has attempted to censor my strings by replacing every vowel with a *, l*k* th*s. Luckily, I've been able to find the vowels that were removed. Given a censored string and a string of the censored vowels, return the original uncensored string.\n",
    "\n",
    "Ex:\n",
    "\n",
    "1. uncensor(\"Wh * r * d * d   my   v * w * ls g *?\", \"eeioeo\") ➞ \"Where did my vowels go?\"\n",
    "\n",
    "2. uncensor(\"abcd\", \"\") ➞ \"abcd\"\n",
    "\n",
    "3. uncensor(\" * PP * RC * S *\", \"UEAE\") ➞ \"UPPERCASE\"\n",
    "\n",
    "#### A3:"
   ]
  },
  {
   "cell_type": "code",
   "execution_count": 86,
   "id": "59ee9d66",
   "metadata": {},
   "outputs": [
    {
     "name": "stdout",
     "output_type": "stream",
     "text": [
      "Enter a string with the vowels replaced by a '*' sign- Wh*r* d*d my v*w*ls g*?,eeioeo\n",
      "There are vowels present in the sentence.\n",
      "All the missing vowels are- eeioeo\n",
      "Where did my vowels go?\n"
     ]
    }
   ],
   "source": [
    "def uncensor():\n",
    "    sentence,vowels = str(input(\"Enter a string with the vowels replaced by a '*' sign- \")).split(\",\")\n",
    "    for word in sentence:\n",
    "        if word == \"*\":\n",
    "            print(\"There are vowels present in the sentence.\\nAll the missing vowels are-\",vowels)\n",
    "            break\n",
    "    new_sentence = \"\"\n",
    "    counter = 0\n",
    "    for i in range(len(sentence)):\n",
    "        if sentence[i] == \"*\":\n",
    "            new_sentence += vowels[counter]\n",
    "            counter += 1\n",
    "        else: new_sentence += sentence[i]\n",
    "    print(new_sentence)\n",
    "uncensor()"
   ]
  },
  {
   "cell_type": "markdown",
   "id": "b6bb9b21",
   "metadata": {},
   "source": [
    "#### Q4: Write a function that takes an IP address and returns the domain name using PTR DNS records.\n",
    "\n",
    "Ex:\n",
    "\n",
    "1. get_domain(\"8.8.8.8\") ➞ \"dns.google\"\n",
    "\n",
    "2. get_domain(\"8.8.4.4\") ➞ \"dns.google\"\n",
    "\n",
    "#### A4:"
   ]
  },
  {
   "cell_type": "code",
   "execution_count": 94,
   "id": "dfe59f15",
   "metadata": {},
   "outputs": [
    {
     "name": "stdout",
     "output_type": "stream",
     "text": [
      "Domain name using PTR DNS:\n"
     ]
    },
    {
     "data": {
      "text/plain": [
       "'dns.google'"
      ]
     },
     "execution_count": 94,
     "metadata": {},
     "output_type": "execute_result"
    }
   ],
   "source": [
    "def get_domain(ip_address):\n",
    "    import socket\n",
    "    result=socket.gethostbyaddr(ip_address)\n",
    "    return list(result)[0]\n",
    "print(\"Domain name using PTR DNS:\")\n",
    "get_domain(\"8.8.8.8\")"
   ]
  },
  {
   "cell_type": "markdown",
   "id": "10271fd0",
   "metadata": {},
   "source": [
    "#### Q5: Create a function that takes an integer n and returns the factorial of factorials. See below examples for a better understanding:\n",
    "\n",
    "Ex:\n",
    "\n",
    "1. fact_of_fact(4) ➞ 288 [4! * 3! * 2! * 1! = 288]\n",
    "\n",
    "2. fact_of_fact(5) ➞ 34560\n",
    "\n",
    "3. fact_of_fact(6) ➞ 24883200\n",
    "\n",
    "#### A5:"
   ]
  },
  {
   "cell_type": "code",
   "execution_count": 260,
   "id": "9b488adf",
   "metadata": {},
   "outputs": [
    {
     "name": "stdout",
     "output_type": "stream",
     "text": [
      "Enter a number to find the factorial of the number's factorial- 5\n",
      "The factorial of the factorial is-  34560\n"
     ]
    }
   ],
   "source": [
    "def fact_of_fact():\n",
    "    import math\n",
    "    count = 1\n",
    "    numbers = int(input(\"Enter a number to find the factorial of the number's factorial- \"))\n",
    "    for number in range(1,numbers+1):\n",
    "        factori = math.factorial(number)\n",
    "        count *= factori\n",
    "    print(\"The factorial of the factorial is- \",count)\n",
    "fact_of_fact()"
   ]
  }
 ],
 "metadata": {
  "kernelspec": {
   "display_name": "Python 3",
   "language": "python",
   "name": "python3"
  },
  "language_info": {
   "codemirror_mode": {
    "name": "ipython",
    "version": 3
   },
   "file_extension": ".py",
   "mimetype": "text/x-python",
   "name": "python",
   "nbconvert_exporter": "python",
   "pygments_lexer": "ipython3",
   "version": "3.8.8"
  }
 },
 "nbformat": 4,
 "nbformat_minor": 5
}
