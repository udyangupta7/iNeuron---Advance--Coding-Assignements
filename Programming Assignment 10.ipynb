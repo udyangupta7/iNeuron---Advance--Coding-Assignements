{
 "cells": [
  {
   "cell_type": "markdown",
   "id": "d2da2bde",
   "metadata": {},
   "source": [
    "#Assignment 10:\n",
    "\n",
    "#### Assignment 1: Create a function that takes the width, height and character and returns a picture frame as a 2D list.\n",
    "\n",
    "Examples:\n",
    "\n",
    "i. get_frame(4, 5, \"#\") ➞ [\n",
    "\n",
    "  [\"####\"],\n",
    "  \n",
    "  [\"#  #\"],\n",
    "  \n",
    "  [\"#  #\"],\n",
    "  \n",
    "  [\"#  #\"],\n",
    "  \n",
    "  [\"####\"]\n",
    "]\n",
    "(The Frame is 4 characters wide and 5 characters tall.)\n",
    "\n",
    "\n",
    "ii. get_frame(10, 3, \"*\") ➞ [\n",
    "\n",
    "  [\"**********\"],\n",
    "  \n",
    "  [\"*        *\"],\n",
    "  \n",
    "  [\"**********\"]\n",
    "]\n",
    "\n",
    "(Frame is 10 characters and wide and 3 characters tall.)\n",
    "\n",
    "\n",
    "iii. get_frame(2, 5, \"0\") ➞ \"invalid\"\n",
    "\n",
    "(Frame's width is not more than 2.)\n",
    "\n",
    "#### Answer 1:"
   ]
  },
  {
   "cell_type": "code",
   "execution_count": 1,
   "id": "21b92dee",
   "metadata": {},
   "outputs": [
    {
     "name": "stdout",
     "output_type": "stream",
     "text": [
      "['####']\n",
      "['#  #']\n",
      "['#  #']\n",
      "['#  #']\n",
      "['####']\n"
     ]
    }
   ],
   "source": [
    "def get_frame(m, n,sign) :\n",
    "    row = []\n",
    "    frame = []\n",
    "    boxStr = '' \n",
    "    if m <= 2 or n <= 2:\n",
    "        return \"invalid\"\n",
    "    for i in range(1, n+1) :\n",
    "        boxStr = ''\n",
    "        row = []\n",
    "        for j in range(1, m+1) :\n",
    "            if (i == 1 or i == n or\n",
    "                j == 1 or j == m) :\n",
    "                boxStr = boxStr + sign\n",
    "            else :\n",
    "                boxStr = boxStr + ' '\n",
    "        row.append(boxStr)\n",
    "        frame.append(row)\n",
    "    for i in frame:\n",
    "        print(i)\n",
    "\n",
    "get_frame(4, 5, '#')"
   ]
  },
  {
   "cell_type": "markdown",
   "id": "af609f28",
   "metadata": {},
   "source": [
    "#### Question 2: Write three functions:\n",
    "\n",
    "  1. boolean_and\n",
    "  2. boolean_or\n",
    "  3. boolean_xor\n",
    "These functions should evaluate a list of True and False values, starting from the leftmost element and evaluating pairwise.\n",
    "\n",
    "Examples\n",
    "\n",
    "boolean_and([True, True, False, True]) ➞ False ([True, True, False, True] => [True, False, True] => [False, True] => False)\n",
    "\n",
    "boolean_or([True, True, False, False]) ➞ True ([True, True, False, True] => [True, False, False] => [True, False] => True)\n",
    "\n",
    "boolean_xor([True, True, False, False]) ➞ False ([True, True, False, False] => [False, False, False] => [False, False] => False)\n",
    "\n",
    "#### Answer 2:"
   ]
  },
  {
   "cell_type": "code",
   "execution_count": 2,
   "id": "cc834c09",
   "metadata": {},
   "outputs": [
    {
     "data": {
      "text/plain": [
       "False"
      ]
     },
     "execution_count": 2,
     "metadata": {},
     "output_type": "execute_result"
    }
   ],
   "source": [
    "from functools import reduce\n",
    "\n",
    "def boolean_and(items):\n",
    "    status = reduce(lambda a,b: True if (a & b) else False, items)\n",
    "    return status\n",
    "\n",
    "def boolean_or(items):\n",
    "    status = reduce(lambda a,b: True if (a | b) else False, items)\n",
    "    return status\n",
    "\n",
    "def boolean_xor(items):\n",
    "    status = reduce(lambda a,b: True if (a ^ b) else False, items)\n",
    "    return status\n",
    "\n",
    "boolean_xor([True, True, False, False])"
   ]
  },
  {
   "cell_type": "markdown",
   "id": "a5cfa5ae",
   "metadata": {},
   "source": [
    "#### Question 3: Create a function that creates a box based on dimension n.\n",
    "\n",
    "Examples:\n",
    "\n",
    "i. make_box(5) ➞ [\n",
    "\n",
    "  \"#####\",\n",
    "\n",
    "\"#   #\",\n",
    "\n",
    "\"#   #\",\n",
    "  \n",
    "  \"#   #\",\n",
    "  \n",
    "  \"#####\"\n",
    "]\n",
    "\n",
    "ii. make_box(3) ➞ [\n",
    "\n",
    "\"###\",\n",
    "\n",
    "\"# #\",\n",
    "      \n",
    "\"###\"\n",
    "]\n",
    "\n",
    "iii. make_box(2) ➞ [\n",
    "  \n",
    "\"##\",\n",
    "  \n",
    "\"##\"\n",
    "\n",
    "]\n",
    "\n",
    "iv. make_box(1) ➞ [\n",
    "  \n",
    "  \"#\"\n",
    "\n",
    "]\n",
    "\n",
    "#### Answer 3:"
   ]
  },
  {
   "cell_type": "code",
   "execution_count": 3,
   "id": "6f5e6e27",
   "metadata": {},
   "outputs": [
    {
     "name": "stdout",
     "output_type": "stream",
     "text": [
      "#####\n",
      "#   #\n",
      "#   #\n",
      "#   #\n",
      "#####\n"
     ]
    },
    {
     "data": {
      "text/plain": [
       "['#####', '#   #', '#   #', '#   #', '#####']"
      ]
     },
     "execution_count": 3,
     "metadata": {},
     "output_type": "execute_result"
    }
   ],
   "source": [
    "def make_box(n) :\n",
    "    box = []\n",
    "    boxStr =''\n",
    "    for i in range(1, n+1) :\n",
    "        boxStr = ''\n",
    "        for j in range(1, n+1) :\n",
    "            if (i == 1 or i == n or\n",
    "                j == 1 or j == n) :           \n",
    "                boxStr = boxStr + '#'\n",
    "            else :\n",
    "                boxStr = boxStr + ' '\n",
    "        box.append(boxStr)\n",
    "    for i in range(len(box)):\n",
    "        print(box[i],end='\\n')\n",
    "    return box\n",
    "\n",
    "make_box(5)"
   ]
  },
  {
   "cell_type": "markdown",
   "id": "168f7f78",
   "metadata": {},
   "source": [
    "#### Question 4: Given a common phrase, return False if any individual word in the phrase contains duplicate letters. Return True otherwise.\n",
    "\n",
    "Examples:\n",
    "\n",
    "i. no_duplicate_letters(\"Fortune favours the bold.\") ➞ True\n",
    "\n",
    "ii. no_duplicate_letters(\"You can lead a horse to water, but you can't make him drink.\") ➞ True\n",
    "\n",
    "iii. no_duplicate_letters(\"Look before you leap.\") ➞ False (Duplicate letters in \"Look\" and \"before\".)\n",
    "\n",
    "iv. no_duplicate_letters(\"An apple a day keeps the doctor away.\") ➞ False (Duplicate letters in \"apple\", \"keeps\", \"doctor\", and \"away\".)\n",
    "\n",
    "#### Answer 4:"
   ]
  },
  {
   "cell_type": "code",
   "execution_count": 6,
   "id": "4f42b108",
   "metadata": {},
   "outputs": [
    {
     "data": {
      "text/plain": [
       "False"
      ]
     },
     "execution_count": 6,
     "metadata": {},
     "output_type": "execute_result"
    }
   ],
   "source": [
    "def no_duplicate_letters(text):\n",
    "     \n",
    "    lst = text.split(' ')\n",
    "    for word in lst:\n",
    "        for i in range(len(word)):\n",
    "            for j in range(i + 1,len(word)):\n",
    "                if(word[i] == word[j]):\n",
    "                    return False;\n",
    "                \n",
    "    return True;\n",
    "\n",
    "no_duplicate_letters('Look before you leap.')"
   ]
  },
  {
   "cell_type": "markdown",
   "id": "9979682e",
   "metadata": {},
   "source": [
    "#### Question 5: Write a regular expression that will match the states that voted yes to President Trump's impeachment. You must use RegEx positive lookahead.\n",
    "\n",
    "Example:\n",
    "\n",
    "txt = \"Texas = no, California = yes, Florida = yes, Michigan = no\"\n",
    "\n",
    "pattern = \"yourregularexpressionhere\"\n",
    "\n",
    "re.findall(pattern, txt) ➞ [\"California\", \"Florida\"]\n",
    "\n",
    "#### Answer 5:"
   ]
  },
  {
   "cell_type": "code",
   "execution_count": 10,
   "id": "e3a3089c",
   "metadata": {
    "scrolled": true
   },
   "outputs": [
    {
     "name": "stdout",
     "output_type": "stream",
     "text": [
      "['California', 'Florida']\n"
     ]
    }
   ],
   "source": [
    "import re\n",
    "txt = 'Texas = no, California = yes, Florida = yes, Michigan = no'\n",
    "pattern = '?=yes'\n",
    "pattern = r'\\w+(?= = yes)'\n",
    "result = re.findall(pattern, txt) \n",
    "print(result)"
   ]
  }
 ],
 "metadata": {
  "kernelspec": {
   "display_name": "Python 3",
   "language": "python",
   "name": "python3"
  },
  "language_info": {
   "codemirror_mode": {
    "name": "ipython",
    "version": 3
   },
   "file_extension": ".py",
   "mimetype": "text/x-python",
   "name": "python",
   "nbconvert_exporter": "python",
   "pygments_lexer": "ipython3",
   "version": "3.7.10"
  }
 },
 "nbformat": 4,
 "nbformat_minor": 5
}
