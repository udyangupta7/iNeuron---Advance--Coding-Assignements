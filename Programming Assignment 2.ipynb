{
 "cells": [
  {
   "cell_type": "markdown",
   "id": "136c6994",
   "metadata": {},
   "source": [
    "# Programming Assignment 2:\n",
    "\n",
    " Write a function that takes a positive integer num and calculates how many dots exist in a pentagonal shape around the center dot on the Nth iteration.\n",
    "\n",
    "Return the number of dots that exist in the whole pentagon on the Nth iteration.\n",
    "\n",
    "Ex-\n",
    "\n",
    "i. pentagonal(1) ➞ 1\n",
    "\n",
    "ii. pentagonal(2) ➞ 6\n",
    "\n",
    "iii. pentagonal(3) ➞ 16\n",
    "\n",
    "iv. pentagonal(8) ➞ 141\n",
    "\n",
    "#### A1:"
   ]
  },
  {
   "cell_type": "code",
   "execution_count": 2,
   "id": "e09f02c1",
   "metadata": {},
   "outputs": [
    {
     "name": "stdout",
     "output_type": "stream",
     "text": [
      "Enter the value for the nth iteration - 8\n",
      "8th Centered pentagonal number : 141\n"
     ]
    }
   ],
   "source": [
    "def centered_pentagonal_Num(n):\n",
    "    return (5 * n * n - 5 * n + 2) // 2\n",
    "while True:\n",
    "    n = int(input(\"Enter the value for the nth iteration - \"))\n",
    "    if n > 0:break\n",
    "    else: print(\"Negative value entered. Please try again.\")\n",
    "print(\"%sth Centered pentagonal number :\" %n,centered_pentagonal_Num(n))"
   ]
  },
  {
   "cell_type": "markdown",
   "id": "082cf439",
   "metadata": {},
   "source": [
    "#### Q2:  Make a function that encrypts a given input with these steps:\n",
    "\n",
    "Input: \"apple\"\n",
    "\n",
    "Step 1: Reverse the input: \"elppa\"\n",
    "\n",
    "Step 2: Replace all vowels using the following chart:\n",
    "\n",
    "a => 0, e => 1, i => 2, o => 2, u => 3\n",
    "\n",
    "Output: \"1lpp0\"\n",
    "\n",
    "Step 3: Add \"aca\" to the end of the word: \"1lpp0aca\"\n",
    "\n",
    "Final output: \"1lpp0aca\"\n",
    "\n",
    "Ex-\n",
    "\n",
    "1. encrypt(\"banana\") ➞ \"0n0n0baca\"\n",
    "\n",
    "2. encrypt(\"karaca\") ➞ \"0c0r0kaca\"\n",
    "\n",
    "3. encrypt(\"burak\") ➞ \"k0r3baca\"\n",
    "\n",
    "4. encrypt(\"alpaca\") ➞ \"0c0pl0aca\"\n",
    "\n",
    "#### A2:"
   ]
  },
  {
   "cell_type": "code",
   "execution_count": 3,
   "id": "237b99dc",
   "metadata": {},
   "outputs": [
    {
     "name": "stdout",
     "output_type": "stream",
     "text": [
      "enter a string:banana\n",
      "\tReverse of the entered string is -  ananab\n",
      "\tThe final word is - 0n0n0baca\n"
     ]
    }
   ],
   "source": [
    "def encrypt():\n",
    "    vowels = {\"a\": 0, \"e\": 1, \"i\": 2, \"o\": 2, \"u\": 3}\n",
    "    string = str(input(\"enter a string:\"))[::-1]\n",
    "    print(\"\\tReverse of the entered string is - \",string)\n",
    "    for i in vowels:\n",
    "        string = string.replace(i,str(vowels[i]))\n",
    "    print(f\"\\tThe final word is - {string}aca\")\n",
    "encrypt()"
   ]
  },
  {
   "cell_type": "markdown",
   "id": "db96d20f",
   "metadata": {},
   "source": [
    "#### Q3: Given the month and year as numbers, return whether that month contains a Friday 13th.\n",
    "(You can check Python's datetime module)\n",
    "\n",
    "Ex-\n",
    "\n",
    "1. has_friday_13(3, 2020) ➞ True\n",
    "\n",
    "2. has_friday_13(10, 2017) ➞ True\n",
    "\n",
    "3. has_friday_13(1, 1985) ➞ False\n",
    "\n",
    "#### A3:"
   ]
  },
  {
   "cell_type": "code",
   "execution_count": 30,
   "id": "e4b76950",
   "metadata": {},
   "outputs": [
    {
     "name": "stdout",
     "output_type": "stream",
     "text": [
      "Enter a month and year seperated by a comma: 3,2020\n"
     ]
    },
    {
     "data": {
      "text/plain": [
       "True"
      ]
     },
     "execution_count": 30,
     "metadata": {},
     "output_type": "execute_result"
    }
   ],
   "source": [
    "import datetime\n",
    "def has_friday_13(date):\n",
    "    month,year = date.split(\",\")\n",
    "    month,year = int(month),int(year)\n",
    "    return datetime.date(year, month, 13).strftime(\"%A\") == \"Friday\"\n",
    "has_friday_13(input(\"Enter a month and year seperated by a comma: \"))"
   ]
  },
  {
   "cell_type": "markdown",
   "id": "bb741bdb",
   "metadata": {},
   "source": [
    "#### Q4: Write a regular expression that will help us count how many bad cookies are produced every day. You must use RegEx negative lookbehind.\n",
    "\n",
    "Ex-\n",
    "\n",
    "lst = [\"bad cookie\", \"good cookie\", \"bad cookie\", \"good cookie\", \"good cookie\"]\n",
    "\n",
    "pattern = \"yourregularexpressionhere\"\n",
    "\n",
    "Ex-\n",
    "\n",
    "len(re.findall(pattern, \", \".join(lst))) ➞ 2\n",
    "\n",
    "#### A4:"
   ]
  },
  {
   "cell_type": "code",
   "execution_count": 1,
   "id": "4ffa3f95",
   "metadata": {},
   "outputs": [
    {
     "name": "stdout",
     "output_type": "stream",
     "text": [
      "3\n"
     ]
    }
   ],
   "source": [
    "import re\n",
    "lst = [\"bad cookie\", \"good cookie\", \"bad cookie\", \"good cookie\", \"good cookie\"]\n",
    "pattern = \"(?<!)bad|good\"\n",
    "x = len(re.findall(pattern, \", \".join(lst)))\n",
    "print(x)"
   ]
  },
  {
   "cell_type": "markdown",
   "id": "f47b7b4f",
   "metadata": {},
   "source": [
    "#### Q5: Given a list of words in the singular form, return a set of those words in the plural form if they appear more than once in the list.\n",
    "\n",
    "Ex-\n",
    "\n",
    "pluralize([\"cow\", \"pig\", \"cow\", \"cow\"]) ➞ { \"cows\", \"pig\" }\n",
    "\n",
    "pluralize([\"table\", \"table\", \"table\"]) ➞ { \"tables\" }\n",
    "\n",
    "pluralize([\"chair\", \"pencil\", \"arm\"]) ➞ { \"chair\", \"pencil\", \"arm\" }\n",
    "\n",
    "#### A5:"
   ]
  },
  {
   "cell_type": "code",
   "execution_count": 5,
   "id": "13f915b9",
   "metadata": {},
   "outputs": [
    {
     "name": "stdout",
     "output_type": "stream",
     "text": [
      "Enter the number of words to be entered - 4\n",
      "\tEnter a word:table\n",
      "\tEnter a word:chair \n",
      "\tEnter a word:table\n",
      "\tEnter a word:table\n",
      "Most repeating word is -  table\n",
      "The plural for table is -  tables\n"
     ]
    }
   ],
   "source": [
    "import pattern.en\n",
    "limit = int(input(\"Enter the number of words to be entered - \"))\n",
    "lst = [str(input(\"\\tEnter a word:\")) for word in range(limit)]\n",
    "my_dict = {i:lst.count(i) for i in lst}\n",
    "max_key = max(my_dict, key=my_dict.get)\n",
    "print(\"Most repeating word is - \",max_key)\n",
    "print(\"The plural for\",max_key,\"is - \",pattern.en.pluralize(max_key))"
   ]
  }
 ],
 "metadata": {
  "kernelspec": {
   "display_name": "Python 3",
   "language": "python",
   "name": "python3"
  },
  "language_info": {
   "codemirror_mode": {
    "name": "ipython",
    "version": 3
   },
   "file_extension": ".py",
   "mimetype": "text/x-python",
   "name": "python",
   "nbconvert_exporter": "python",
   "pygments_lexer": "ipython3",
   "version": "3.8.8"
  }
 },
 "nbformat": 4,
 "nbformat_minor": 5
}
