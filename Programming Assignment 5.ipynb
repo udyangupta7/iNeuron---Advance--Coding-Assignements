{
 "cells": [
  {
   "cell_type": "markdown",
   "id": "e21bc320",
   "metadata": {},
   "source": [
    "# Coding Assignment 5:\n",
    "\n",
    "#### Question 1: Create a function that takes a number n (integer greater than zero) as an argument, and returns 2 if n is odd and 8 if n is even.\n",
    "\n",
    "Note: You can only use the following arithmetic operators: addition of numbers +, subtraction of numbers -, multiplication of number *, division of number /, and exponentiation **.\n",
    "\n",
    "You are not allowed to use any other methods in this challenge (i.e. no if statements, comparison operators, etc).\n",
    "\n",
    "Examples\n",
    "\n",
    "f(1) ➞ 2\n",
    "\n",
    "f(2) ➞ 8\n",
    "\n",
    "f(3) ➞ 2\n",
    "\n",
    "#### Answer 1:"
   ]
  },
  {
   "cell_type": "code",
   "execution_count": 27,
   "id": "b5a9f5f8",
   "metadata": {},
   "outputs": [
    {
     "name": "stdout",
     "output_type": "stream",
     "text": [
      "Enter the number:345\n",
      "2\n"
     ]
    }
   ],
   "source": [
    "def f():\n",
    "    arr = [8, 2]\n",
    "    number = int(input(\"Enter the number:\"))\n",
    "    print (arr[number % 2])\n",
    "f()"
   ]
  },
  {
   "cell_type": "markdown",
   "id": "d54590e1",
   "metadata": {},
   "source": [
    "#### Question 2: Create a function that returns the majority vote in a list. A majority vote is an element that occurs > N/2 times in a list (where N is the length of the list).\n",
    "\n",
    "Examples:\n",
    "\n",
    "i. majority_vote([\"A\", \"A\", \"B\"]) ➞ \"A\"\n",
    "\n",
    "ii. majority_vote([\"A\", \"A\", \"A\", \"B\", \"C\", \"A\"]) ➞ \"A\"\n",
    "\n",
    "iii. majority_vote([\"A\", \"B\", \"B\", \"A\", \"C\", \"C\"]) ➞ None\n",
    "\n",
    "\n",
    "#### Answer 2:"
   ]
  },
  {
   "cell_type": "code",
   "execution_count": 34,
   "id": "b746ad32",
   "metadata": {},
   "outputs": [
    {
     "name": "stdout",
     "output_type": "stream",
     "text": [
      "Enter the size of the list: 3\n",
      "\tEnter any letter: A\n",
      "\tEnter any letter: A\n",
      "\tEnter any letter: B\n",
      "The list is: ['A', 'A', 'B']\n",
      "The majority element is: A\n"
     ]
    }
   ],
   "source": [
    "def majority_vote():\n",
    "    n = int(input(\"Enter the size of the list: \"))\n",
    "    arr = [str(input(\"\\tEnter any letter: \")) for i in range(size)]\n",
    "    print(\"The list is:\",arr)\n",
    "    maxCount = 0\n",
    "    index = -1 \n",
    "    for i in range(n):\n",
    "        count = 0\n",
    "        for j in range(n):\n",
    "            if(arr[i] == arr[j]):\n",
    "                count += 1\n",
    "        if(count > maxCount):\n",
    "            maxCount = count\n",
    "            index = i\n",
    "    if (maxCount > n//2):\n",
    "        print(\"The majority element is:\",arr[index])\n",
    "    else:\n",
    "        print(\"No Majority Element\")\n",
    "majority_vote()"
   ]
  },
  {
   "cell_type": "markdown",
   "id": "00ef1c60",
   "metadata": {},
   "source": [
    "#### Question 3: Create a function that takes a string txt and censors any word from a given list lst. The text removed must be replaced by the given character char.\n",
    "\n",
    "Examples:\n",
    "\n",
    "i. censor_string(\"Today is a Wednesday!\", [\"Today\", \"a\"], \"-\") ➞ \"----- is - Wednesday!\"\n",
    "\n",
    "ii. censor_string(\"The cow jumped over the moon.\", [\"cow\", \"over\"], \"*\"), \"The *** jumped **** the moon.\")\n",
    "\n",
    "iii. censor_string(\"Why did the chicken cross the road?\", [\"Did\", \"chicken\", \"road\"], \"*\") ➞ \"Why *** the ******* cross the ****?\"\n",
    "\n",
    "#### Answer 3:"
   ]
  },
  {
   "cell_type": "code",
   "execution_count": 38,
   "id": "77d00602",
   "metadata": {},
   "outputs": [
    {
     "name": "stdout",
     "output_type": "stream",
     "text": [
      "Enter a string: this is me writing a sample sentence\n",
      "Enter the word(s) to be replaced: writing\n",
      "Enter a special sign to replace it with: !\n",
      "this is me !!!!!!! a sample sentence\n"
     ]
    }
   ],
   "source": [
    "def censor_string(text, word, replacement): \n",
    "    word_list = text.split() \n",
    "    result = '' #\n",
    "    stars =  replacement * len(word) \n",
    "    count = 0#\n",
    "    index = 0; \n",
    "    for i in word_list: \n",
    "        if i == word: \n",
    "            word_list[index] = stars \n",
    "        index += 1\n",
    "    result =' '.join(word_list) \n",
    "    return result \n",
    "if __name__== '__main__': \n",
    "    extract = str(input(\"Enter a string: \"))           \n",
    "    cen = str(input(\"Enter the word(s) to be replaced: \"))    \n",
    "    sign = str(input(\"Enter a special sign to replace it with: \"))\n",
    "    print(censor_string(extract, cen, sign)) "
   ]
  },
  {
   "cell_type": "markdown",
   "id": "835d0425",
   "metadata": {},
   "source": [
    "#### 4. In mathematics a Polydivisible Number (or a magic number) is a number in a given number base with digits abcde... that has the following properties:\n",
    "\n",
    "- Its first digit a is not 0.\n",
    "- The number formed by its first two digits ab is a multiple of 2.\n",
    "- The number formed by its first three digits abc is a multiple of 3.\n",
    "- The number formed by its first four digits abcd is a multiple of 4.\n",
    "\n",
    "Create a function which takes an integer n and returns True if the given number is a Polydivisible Number and False otherwise.\n",
    "\n",
    "Examples:\n",
    "\n",
    "i. is_polydivisible(1232) ➞ True\n",
    " 1     / 1 = 1\n",
    " 12    / 2 = 6\n",
    " 123   / 3 = 41\n",
    " 1232  / 4 = 308\n",
    "\n",
    "ii. is_polydivisible(123220 ) ➞ False\n",
    " 1   / 1 = 1\n",
    " 12   / 2 = 6\n",
    " 123   / 3 = 41\n",
    " 1232   / 4 = 308\n",
    " 12322   / 5 = 2464.4         # Not a Whole Number\n",
    " 123220   /6 = 220536.333...  # Not a Whole Number\n",
    "\n",
    "#### Answer 4:"
   ]
  },
  {
   "cell_type": "code",
   "execution_count": 41,
   "id": "577ca9dc",
   "metadata": {},
   "outputs": [
    {
     "name": "stdout",
     "output_type": "stream",
     "text": [
      "Enter a number: 1232\n",
      "True\n"
     ]
    }
   ],
   "source": [
    "def is_polydivisible(n):\n",
    "    N = n\n",
    "    digit = []\n",
    "    while (n > 0):\n",
    "        digit.append(n % 10)\n",
    "        n //= 10\n",
    "\n",
    "    digit = digit[::-1]\n",
    "    flag = True\n",
    "    n = digit[0]\n",
    "    for i in range(1, len(digit), 1):\n",
    "        n = n * 10 + digit[i]\n",
    "        if (n % (i + 1) != 0):\n",
    "            flag = False\n",
    "            break\n",
    "    if (flag):\n",
    "        print(\"True\")\n",
    "    else:\n",
    "        print(\"False\")\n",
    "        \n",
    "if __name__ == '__main__':\n",
    "    n = int(input(\"Enter a number: \"))\n",
    "    is_polydivisible(n)"
   ]
  },
  {
   "cell_type": "markdown",
   "id": "31d8a84d",
   "metadata": {},
   "source": [
    "#### 5. Create a function that takes a list of numbers and returns the sum of all prime numbers in the list.\n",
    "\n",
    "Examples:\n",
    "\n",
    "i. sum_primes([1, 2, 3, 4, 5, 6, 7, 8, 9, 10]) ➞ 17\n",
    "\n",
    "ii. sum_primes([2, 3, 4, 11, 20, 50, 71]) ➞ 87\n",
    "\n",
    "iii sum_primes([ ]) ➞ None\n",
    "\n",
    "#### Answer 5:"
   ]
  },
  {
   "cell_type": "code",
   "execution_count": 46,
   "id": "37f8edd9",
   "metadata": {},
   "outputs": [
    {
     "name": "stdout",
     "output_type": "stream",
     "text": [
      "Enter the size of the list: 10\n",
      "\tEnter any number: 1\n",
      "\tEnter any number: 2\n",
      "\tEnter any number: 3\n",
      "\tEnter any number: 4\n",
      "\tEnter any number: 5\n",
      "\tEnter any number: 6\n",
      "\tEnter any number: 7\n",
      "\tEnter any number: 8\n",
      "\tEnter any number: 9\n",
      "\tEnter any number: 10\n",
      "The list is:  [1, 2, 3, 4, 5, 6, 7, 8, 9, 10]\n",
      "Sum of all prime numbers in the list: 18\n"
     ]
    }
   ],
   "source": [
    "def sum_primes(list1):\n",
    "    s = 0\n",
    "    for num in list1:\n",
    "        i = 2\n",
    "        p = 1\n",
    "        while i <= num / 2:\n",
    "            if num % i == 0:\n",
    "                p = 0\n",
    "                break\n",
    "            i = i + 1\n",
    "        if p == 1:\n",
    "            s = s + num\n",
    "    return s\n",
    "\n",
    "size = int(input(\"Enter the size of the list: \"))\n",
    "list1 = [int(input(\"\\tEnter any number: \")) for i in range(size)]\n",
    "print(\"The list is: \",list1)\n",
    "s = sum_primes(list1)\n",
    "print(\"Sum of all prime numbers in the list:\", s)"
   ]
  }
 ],
 "metadata": {
  "kernelspec": {
   "display_name": "Python 3",
   "language": "python",
   "name": "python3"
  },
  "language_info": {
   "codemirror_mode": {
    "name": "ipython",
    "version": 3
   },
   "file_extension": ".py",
   "mimetype": "text/x-python",
   "name": "python",
   "nbconvert_exporter": "python",
   "pygments_lexer": "ipython3",
   "version": "3.7.10"
  }
 },
 "nbformat": 4,
 "nbformat_minor": 5
}
