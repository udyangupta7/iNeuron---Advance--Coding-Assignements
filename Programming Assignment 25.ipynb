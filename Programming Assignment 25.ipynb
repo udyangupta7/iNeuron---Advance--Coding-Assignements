{
 "cells": [
  {
   "cell_type": "markdown",
   "id": "568bb95b",
   "metadata": {},
   "source": [
    "# Programming Assignment 25:\n",
    "\n",
    "#### Question 1:"
   ]
  },
  {
   "cell_type": "raw",
   "id": "f346e6dd",
   "metadata": {},
   "source": [
    "1. Write four functions that directly mutate a list:\n",
    "1. repeat(lst, n): Repeat lst n times.\n",
    "2. add(lst, x): Adds x to the end of the lst.\n",
    "3. remove(lst, m, n): Removes all elements between indices m and n\n",
    "inclusive in lst.\n",
    "4. concat(lst, x): concatenates lst with x (another list).\n",
    "Examples\n",
    "lst = [1, 2, 3, 4]\n",
    "repeat(lst, 3) ➞ [1, 2, 3, 4, 1, 2, 3, 4, 1, 2, 3, 4]\n",
    "add(lst, 1) ➞ [1, 2, 3, 4, 1, 2, 3, 4, 1, 2, 3, 4, 1]\n",
    "remove(lst, 1, 12) ➞ [1]\n",
    "concat(lst, [3, 4]) ➞ [1, 3, 4]"
   ]
  },
  {
   "cell_type": "markdown",
   "id": "d19c48ba",
   "metadata": {},
   "source": [
    "\n",
    "#### Answer 1:"
   ]
  },
  {
   "cell_type": "code",
   "execution_count": 1,
   "id": "82411004",
   "metadata": {},
   "outputs": [
    {
     "name": "stdout",
     "output_type": "stream",
     "text": [
      "Repeating list [1, 2, 3, 4, 1, 2, 3, 4, 1, 2, 3, 4]\n",
      "adding at the end of list [1, 2, 3, 4, 1, 2, 3, 4, 1, 2, 3, 4, 8]\n",
      "Removing some elements form list [1, 2, 3, 4, 8]\n",
      "concating list [1, 2, 3, 4, 8, 6, 8]\n"
     ]
    }
   ],
   "source": [
    "def repeat(lst,n):\n",
    "    return lst * n\n",
    "\n",
    "def add(lst, x):\n",
    "    lst.append(x)\n",
    "    return lst\n",
    "\n",
    "def remove(lst,m,n):\n",
    "    del lst[m:n+1]\n",
    "    return lst\n",
    "\n",
    "def concat(lst,lst2):\n",
    "    return lst + lst2\n",
    "    \n",
    "\n",
    "lst = [1,2,3,4]\n",
    "lst = repeat(lst,3)\n",
    "print('Repeating list', lst)\n",
    "lst = add(lst,8)\n",
    "print(\"adding at the end of list\",lst)\n",
    "lst = remove(lst,1,8)\n",
    "print('Removing some elements form list',lst)\n",
    "lst = concat(lst,[6,8])\n",
    "print('concating list',lst)"
   ]
  },
  {
   "cell_type": "markdown",
   "id": "1aa5aefe",
   "metadata": {},
   "source": [
    "#### Question 2:"
   ]
  },
  {
   "cell_type": "raw",
   "id": "9e0aeeb5",
   "metadata": {},
   "source": [
    "The classic game of Mastermind is played on a tray on which the\n",
    "Mastermind conceals a code and the Guesser has 10 tries to guess it. The\n",
    "code is a sequence of 4 (or 6, sometimes more) pegs of different colors. Each\n",
    "guess is a corresponding sequence of 4 (or more) pegs of different colors. A\n",
    "guess is 'correct' when the color of every peg in the guess exactly matches\n",
    "the corresponding peg in the Mastermind's code.\n",
    "After each guess by the Guesser, the Mastermind will give a score comprising\n",
    "black & white pegs, not arranged in any order:\n",
    "- Black peg == guess peg matches the color of a code peg in the same\n",
    "position.\n",
    "- White peg == guess peg matches the color of a code peg in another\n",
    "position.\n",
    "Create a function that takes two strings, code and guess as arguments, and\n",
    "returns the score in a dictionary.\n",
    "- The code and guess are strings of numeric digits\n",
    "- The color of the pegs are represented by numeric digits\n",
    "- no 'peg' may be double-scored\n",
    "Examples\n",
    "guess_score('1423', '5678') ➞ {'black': 0, 'white': 0}\n",
    "\n",
    "guess_score('1423', '2222') ➞ {'black': 1, 'white': 0}\n",
    "guess_score('1423', '1234') ➞ {'black': 1, 'white': 3}\n",
    "guess_score('1423', '2211') ➞ {'black': 0, 'white': 2}"
   ]
  },
  {
   "cell_type": "markdown",
   "id": "ef9a7cef",
   "metadata": {},
   "source": [
    "\n",
    "#### Answer 2:"
   ]
  },
  {
   "cell_type": "code",
   "execution_count": 4,
   "id": "97f7db93",
   "metadata": {},
   "outputs": [
    {
     "data": {
      "text/plain": [
       "{'black': 0, 'white': 0}"
      ]
     },
     "execution_count": 4,
     "metadata": {},
     "output_type": "execute_result"
    }
   ],
   "source": [
    "def guess_score(code, guesser):\n",
    "    \n",
    "    dict = {'black' : 0, 'white' : 0}\n",
    "    BlackCnt = 0\n",
    "    whiteCnt = 0\n",
    "\n",
    "    if len(code) != len(guesser):\n",
    "        print('code and guesser are of not of equal lenth')\n",
    "        return False\n",
    "\n",
    "    code = [code[x] for x in range(len(code))]    # converting string of numbers in to list\n",
    "  \n",
    "    # find the black match\n",
    "    for i in range(len(guesser)):\n",
    "        if code[i] == guesser[i]:                # matching the index for black match\n",
    "            code[i] = '-'                        # if found replacing the match with '-'\n",
    "            BlackCnt += 1 \n",
    "            dict['black'] = BlackCnt             # updating the black count\n",
    "            \n",
    "    #for white matches\n",
    "    for i in range(len(guesser)):\n",
    "        for j in range(len(code)):               # for white match they can be in any index, traverse through the string\n",
    "            if guesser[i] == code[j]:\n",
    "                code[j] = '-'                    # if found replace with '-'\n",
    "                whiteCnt += 1\n",
    "                dict['white'] = whiteCnt         # update the count \n",
    "\n",
    "    return dict\n",
    "\n",
    "guess_score('1423', '5678')"
   ]
  },
  {
   "cell_type": "code",
   "execution_count": 5,
   "id": "073cffd8",
   "metadata": {},
   "outputs": [
    {
     "data": {
      "text/plain": [
       "{'black': 1, 'white': 3}"
      ]
     },
     "execution_count": 5,
     "metadata": {},
     "output_type": "execute_result"
    }
   ],
   "source": [
    "guess_score('1423', '1234')"
   ]
  },
  {
   "cell_type": "code",
   "execution_count": 6,
   "id": "9321e8c8",
   "metadata": {},
   "outputs": [
    {
     "data": {
      "text/plain": [
       "{'black': 0, 'white': 2}"
      ]
     },
     "execution_count": 6,
     "metadata": {},
     "output_type": "execute_result"
    }
   ],
   "source": [
    "guess_score('1423', '2211')"
   ]
  },
  {
   "cell_type": "markdown",
   "id": "d6b84c81",
   "metadata": {},
   "source": [
    "#### Question 3:"
   ]
  },
  {
   "cell_type": "raw",
   "id": "a5aa5d5c",
   "metadata": {},
   "source": [
    "Create a function that takes a list lst and a number N and returns a list of\n",
    "two integers from lst whose product equals N.\n",
    "Examples\n",
    "two_product([1, 2, -1, 4, 5], 20) ➞ [4, 5]\n",
    "two_product([1, 2, 3, 4, 5], 10) ➞ [2, 5]\n",
    "two_product([100, 12, 4, 1, 2], 15) ➞ None"
   ]
  },
  {
   "cell_type": "markdown",
   "id": "5e007040",
   "metadata": {},
   "source": [
    "\n",
    "#### Answer 3:"
   ]
  },
  {
   "cell_type": "code",
   "execution_count": 7,
   "id": "89a9527f",
   "metadata": {
    "scrolled": true
   },
   "outputs": [
    {
     "data": {
      "text/plain": [
       "[4, 5]"
      ]
     },
     "execution_count": 7,
     "metadata": {},
     "output_type": "execute_result"
    }
   ],
   "source": [
    "def two_product(lst, n):\n",
    "    lst = sorted(lst,reverse = True)\n",
    "    divisors = []\n",
    "    for i in range(len(lst)):\n",
    "        for j in range(i+1,len(lst)):\n",
    "            if lst[i]*lst[j] == n:\n",
    "                divisors.append(lst[i])            \n",
    "                divisors.append(lst[j])\n",
    "                break            \n",
    "    return sorted(divisors)\n",
    "\n",
    "two_product([1, 2, -1, 4, 5], 20)"
   ]
  },
  {
   "cell_type": "code",
   "execution_count": 9,
   "id": "cdda0c73",
   "metadata": {},
   "outputs": [
    {
     "data": {
      "text/plain": [
       "[2, 5]"
      ]
     },
     "execution_count": 9,
     "metadata": {},
     "output_type": "execute_result"
    }
   ],
   "source": [
    "two_product([1, 2, 3, 4, 5], 10)"
   ]
  },
  {
   "cell_type": "code",
   "execution_count": 10,
   "id": "7c967015",
   "metadata": {},
   "outputs": [
    {
     "data": {
      "text/plain": [
       "[]"
      ]
     },
     "execution_count": 10,
     "metadata": {},
     "output_type": "execute_result"
    }
   ],
   "source": [
    "two_product([100, 12, 4, 1, 2], 15)"
   ]
  },
  {
   "cell_type": "markdown",
   "id": "51e1e766",
   "metadata": {},
   "source": [
    "#### Question 4:"
   ]
  },
  {
   "cell_type": "raw",
   "id": "243e7906",
   "metadata": {},
   "source": [
    "In this challenge, sort a list containing a series of dates given as strings.\n",
    "Each date is given in the format DD-MM-YYYY_HH:MM:\n",
    "'12-02-2012_13:44'\n",
    "The priority of criteria used for sorting will be:\n",
    "- Year\n",
    "- Month\n",
    "- Day\n",
    "- Hours\n",
    "- Minutes\n",
    "Given a list lst and a string mode, implement a function that returns:\n",
    "- if mode is equal to 'ASC', the list lst sorted in ascending order.\n",
    "- if mode is equal to 'DSC', the list lst sorted in descending order.\n",
    "Examples\n",
    "sort_dates(['10-02-2018_12:30', '10-02-2016_12:30', '10-02-2018_12:15'],\n",
    "'ASC') ➞ ['10-02-2016_12:30', '10-02-2018_12:15', '10-02-2018_12:30']\n",
    "sort_dates(['10-02-2018_12:30', '10-02-2016_12:30', '10-02-2018_12:15'],\n",
    "'DSC') ➞ ['10-02-2018_12:30', '10-02-2018_12:15', '10-02-2016_12:30']\n",
    "\n",
    "sort_dates(['09-02-2000_10:03', '10-02-2000_18:29', '01-01-1999_00:55'],\n",
    "'ASC') ➞ ['01-01-1999_00:55', '09-02-2000_10:03', '10-02-2000_18:29']"
   ]
  },
  {
   "cell_type": "markdown",
   "id": "bb98ea60",
   "metadata": {},
   "source": [
    "\n",
    "#### Answer 4:"
   ]
  },
  {
   "cell_type": "code",
   "execution_count": 14,
   "id": "2785156a",
   "metadata": {},
   "outputs": [
    {
     "name": "stdout",
     "output_type": "stream",
     "text": [
      "Sorting in Ascending order\n"
     ]
    },
    {
     "data": {
      "text/plain": [
       "['10-02-2016_12:30', '10-02-2018_12:15', '10-02-2018_12:30']"
      ]
     },
     "execution_count": 14,
     "metadata": {},
     "output_type": "execute_result"
    }
   ],
   "source": [
    "import datetime\n",
    "def sort_dates(d, sort):\n",
    "    if sort == 'ASC':\n",
    "        print(\"Sorting in Ascending order\")\n",
    "        return sorted(d, key=lambda x: datetime.datetime.strptime(x, '%d-%m-%Y_%H:%M'), reverse = False)\n",
    "    elif sort == 'DSC':\n",
    "        print(\"Sorting in Descending order\")\n",
    "        return sorted(d, key=lambda x: datetime.datetime.strptime(x, '%d-%m-%Y_%H:%M'), reverse = True)\n",
    "    else:\n",
    "        print(\"Provide right sorting order\")\n",
    "        \n",
    "sort_dates(['10-02-2018_12:30', '10-02-2016_12:30', '10-02-2018_12:15'], 'ASC')"
   ]
  },
  {
   "cell_type": "code",
   "execution_count": 15,
   "id": "3500d958",
   "metadata": {},
   "outputs": [
    {
     "name": "stdout",
     "output_type": "stream",
     "text": [
      "Sorting in Descending order\n"
     ]
    },
    {
     "data": {
      "text/plain": [
       "['10-02-2000_18:29', '09-02-2000_10:03', '01-01-1999_00:55']"
      ]
     },
     "execution_count": 15,
     "metadata": {},
     "output_type": "execute_result"
    }
   ],
   "source": [
    "sort_dates(['09-02-2000_10:03', '10-02-2000_18:29', '01-01-1999_00:55'], 'DSC')"
   ]
  },
  {
   "cell_type": "code",
   "execution_count": 16,
   "id": "d8d31ed9",
   "metadata": {},
   "outputs": [
    {
     "name": "stdout",
     "output_type": "stream",
     "text": [
      "Sorting in Ascending order\n"
     ]
    },
    {
     "data": {
      "text/plain": [
       "['01-01-1999_00:55', '09-02-2000_10:03', '10-02-2000_18:29']"
      ]
     },
     "execution_count": 16,
     "metadata": {},
     "output_type": "execute_result"
    }
   ],
   "source": [
    "sort_dates(['09-02-2000_10:03', '10-02-2000_18:29', '01-01-1999_00:55'], 'ASC')"
   ]
  },
  {
   "cell_type": "markdown",
   "id": "fe63e38a",
   "metadata": {},
   "source": [
    "#### Question 5:"
   ]
  },
  {
   "cell_type": "raw",
   "id": "fef92a26",
   "metadata": {},
   "source": [
    "Write a function that selects all words that have all the same vowels (in any\n",
    "order and/or number) as the first word, including the first word.\n",
    "Examples\n",
    "same_vowel_group(['toe', 'ocelot', 'maniac']) ➞ ['toe', 'ocelot']\n",
    "same_vowel_group(['many', 'carriage', 'emit', 'apricot', 'animal']) ➞\n",
    "['many']\n",
    "same_vowel_group(['hoops', 'chuff', 'bot', 'bottom']) ➞ ['hoops', 'bot',\n",
    "'bottom']"
   ]
  },
  {
   "cell_type": "markdown",
   "id": "366fa881",
   "metadata": {},
   "source": [
    "\n",
    "#### Answer 5:"
   ]
  },
  {
   "cell_type": "code",
   "execution_count": 18,
   "id": "fa8a1774",
   "metadata": {},
   "outputs": [
    {
     "ename": "NameError",
     "evalue": "name 'vowel' is not defined",
     "output_type": "error",
     "traceback": [
      "\u001b[1;31m---------------------------------------------------------------------------\u001b[0m",
      "\u001b[1;31mNameError\u001b[0m                                 Traceback (most recent call last)",
      "\u001b[1;32m<ipython-input-18-010d86b37964>\u001b[0m in \u001b[0;36m<module>\u001b[1;34m\u001b[0m\n\u001b[0;32m     18\u001b[0m     \u001b[1;32mreturn\u001b[0m \u001b[0mresultlst\u001b[0m\u001b[1;33m\u001b[0m\u001b[1;33m\u001b[0m\u001b[0m\n\u001b[0;32m     19\u001b[0m \u001b[1;33m\u001b[0m\u001b[0m\n\u001b[1;32m---> 20\u001b[1;33m \u001b[0msame_vowel_group\u001b[0m\u001b[1;33m(\u001b[0m\u001b[1;33m[\u001b[0m\u001b[1;34m'toe'\u001b[0m\u001b[1;33m,\u001b[0m \u001b[1;34m'ocelot'\u001b[0m\u001b[1;33m,\u001b[0m \u001b[1;34m'maniac'\u001b[0m\u001b[1;33m]\u001b[0m\u001b[1;33m)\u001b[0m\u001b[1;33m\u001b[0m\u001b[1;33m\u001b[0m\u001b[0m\n\u001b[0m",
      "\u001b[1;32m<ipython-input-18-010d86b37964>\u001b[0m in \u001b[0;36msame_vowel_group\u001b[1;34m(lst)\u001b[0m\n\u001b[0;32m     10\u001b[0m     \u001b[0mvowel\u001b[0m \u001b[1;33m=\u001b[0m \u001b[1;34m'aeiou'\u001b[0m\u001b[1;33m\u001b[0m\u001b[1;33m\u001b[0m\u001b[0m\n\u001b[0;32m     11\u001b[0m     \u001b[0mresultlst\u001b[0m \u001b[1;33m=\u001b[0m \u001b[1;33m[\u001b[0m\u001b[1;33m]\u001b[0m\u001b[1;33m\u001b[0m\u001b[1;33m\u001b[0m\u001b[0m\n\u001b[1;32m---> 12\u001b[1;33m     \u001b[0mtest\u001b[0m \u001b[1;33m=\u001b[0m \u001b[0mfindVowelInWord\u001b[0m\u001b[1;33m(\u001b[0m\u001b[0mlst\u001b[0m\u001b[1;33m[\u001b[0m\u001b[1;36m0\u001b[0m\u001b[1;33m]\u001b[0m\u001b[1;33m)\u001b[0m   \u001b[1;31m# find the vowels in each word of the list\u001b[0m\u001b[1;33m\u001b[0m\u001b[1;33m\u001b[0m\u001b[0m\n\u001b[0m\u001b[0;32m     13\u001b[0m     \u001b[0mresultlst\u001b[0m\u001b[1;33m.\u001b[0m\u001b[0mappend\u001b[0m\u001b[1;33m(\u001b[0m\u001b[0mlst\u001b[0m\u001b[1;33m[\u001b[0m\u001b[1;36m0\u001b[0m\u001b[1;33m]\u001b[0m\u001b[1;33m)\u001b[0m \u001b[1;31m# append the first word in to list\u001b[0m\u001b[1;33m\u001b[0m\u001b[1;33m\u001b[0m\u001b[0m\n\u001b[0;32m     14\u001b[0m     \u001b[1;32mfor\u001b[0m \u001b[0mi\u001b[0m \u001b[1;32min\u001b[0m \u001b[0mrange\u001b[0m\u001b[1;33m(\u001b[0m\u001b[1;36m1\u001b[0m\u001b[1;33m,\u001b[0m\u001b[0mlen\u001b[0m\u001b[1;33m(\u001b[0m\u001b[0mlst\u001b[0m\u001b[1;33m)\u001b[0m\u001b[1;33m)\u001b[0m\u001b[1;33m:\u001b[0m\u001b[1;33m\u001b[0m\u001b[1;33m\u001b[0m\u001b[0m\n",
      "\u001b[1;32m<ipython-input-18-010d86b37964>\u001b[0m in \u001b[0;36mfindVowelInWord\u001b[1;34m(word)\u001b[0m\n\u001b[0;32m      2\u001b[0m     \u001b[0mlstvowstr\u001b[0m \u001b[1;33m=\u001b[0m \u001b[1;34m''\u001b[0m\u001b[1;33m\u001b[0m\u001b[1;33m\u001b[0m\u001b[0m\n\u001b[0;32m      3\u001b[0m     \u001b[1;32mfor\u001b[0m \u001b[0mi\u001b[0m \u001b[1;32min\u001b[0m \u001b[0mrange\u001b[0m\u001b[1;33m(\u001b[0m\u001b[0mlen\u001b[0m\u001b[1;33m(\u001b[0m\u001b[0mword\u001b[0m\u001b[1;33m)\u001b[0m\u001b[1;33m)\u001b[0m\u001b[1;33m:\u001b[0m\u001b[1;33m\u001b[0m\u001b[1;33m\u001b[0m\u001b[0m\n\u001b[1;32m----> 4\u001b[1;33m         \u001b[1;32mif\u001b[0m \u001b[0mword\u001b[0m\u001b[1;33m[\u001b[0m\u001b[0mi\u001b[0m\u001b[1;33m]\u001b[0m \u001b[1;32min\u001b[0m \u001b[0mvowel\u001b[0m\u001b[1;33m:\u001b[0m\u001b[1;33m\u001b[0m\u001b[1;33m\u001b[0m\u001b[0m\n\u001b[0m\u001b[0;32m      5\u001b[0m             \u001b[0mlstvowstr\u001b[0m \u001b[1;33m=\u001b[0m \u001b[0mlstvowstr\u001b[0m \u001b[1;33m+\u001b[0m \u001b[0mword\u001b[0m\u001b[1;33m[\u001b[0m\u001b[0mi\u001b[0m\u001b[1;33m]\u001b[0m\u001b[1;33m\u001b[0m\u001b[1;33m\u001b[0m\u001b[0m\n\u001b[0;32m      6\u001b[0m     \u001b[1;32mreturn\u001b[0m \u001b[1;34m''\u001b[0m\u001b[1;33m.\u001b[0m\u001b[0mjoin\u001b[0m\u001b[1;33m(\u001b[0m\u001b[0mset\u001b[0m\u001b[1;33m(\u001b[0m\u001b[0mlstvowstr\u001b[0m\u001b[1;33m)\u001b[0m\u001b[1;33m)\u001b[0m \u001b[1;31m# find the unique vowels in the word\u001b[0m\u001b[1;33m\u001b[0m\u001b[1;33m\u001b[0m\u001b[0m\n",
      "\u001b[1;31mNameError\u001b[0m: name 'vowel' is not defined"
     ]
    }
   ],
   "source": [
    "def findVowelInWord(word):\n",
    "    lstvowstr = ''    \n",
    "    for i in range(len(word)):        \n",
    "        if word[i] in vowel:\n",
    "            lstvowstr = lstvowstr + word[i]\n",
    "    return ''.join(set(lstvowstr)) # find the unique vowels in the word\n",
    "\n",
    "def same_vowel_group(lst):\n",
    "    vowel = 'aeiou'\n",
    "    resultlst = []\n",
    "    test = findVowelInWord(lst[0])   # find the vowels in each word of the list     \n",
    "    resultlst.append(lst[0]) # append the first word in to list\n",
    "    for i in range(1,len(lst)):\n",
    "        vowWord = findVowelInWord(lst[i])\n",
    "        if test == vowWord: # check the vowel of each word with first word in the list\n",
    "            resultlst.append(lst[i])\n",
    "    return resultlst\n",
    "\n",
    "same_vowel_group(['toe', 'ocelot', 'maniac'])"
   ]
  },
  {
   "cell_type": "code",
   "execution_count": null,
   "id": "57b5865c",
   "metadata": {},
   "outputs": [],
   "source": []
  }
 ],
 "metadata": {
  "kernelspec": {
   "display_name": "Python 3",
   "language": "python",
   "name": "python3"
  },
  "language_info": {
   "codemirror_mode": {
    "name": "ipython",
    "version": 3
   },
   "file_extension": ".py",
   "mimetype": "text/x-python",
   "name": "python",
   "nbconvert_exporter": "python",
   "pygments_lexer": "ipython3",
   "version": "3.7.10"
  }
 },
 "nbformat": 4,
 "nbformat_minor": 5
}
