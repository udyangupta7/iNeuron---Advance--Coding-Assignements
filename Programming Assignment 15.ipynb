{
 "cells": [
  {
   "cell_type": "markdown",
   "id": "6ccef4ae",
   "metadata": {},
   "source": [
    "# Programming Assignment 15:\n",
    "\n",
    "#### Question 1:  Write a function that returns True if a given name can generate an array of words.\n",
    "\n",
    "Examples:\n",
    "\n",
    "i. anagram(\"Justin Bieber\", [\"injures\", \"ebb\", \"it\"]) ➞ True\n",
    "\n",
    "ii. anagram(\"Natalie Portman\", [\"ornamental\", \"pita\"]) ➞ True\n",
    "\n",
    "iii. anagram(\"Chris Pratt\", [\"chirps\", \"rat\"]) ➞ False\n",
    "Not all letters are used\n",
    "\n",
    "iv. anagram(\"Jeff Goldblum\", [\"jog\", \"meld\", \"bluffs\"]) ➞ False (\"s\" does not exist in the original name.)\n",
    "\n",
    "#### Answer 1:"
   ]
  },
  {
   "cell_type": "code",
   "execution_count": 2,
   "id": "eec52124",
   "metadata": {},
   "outputs": [
    {
     "data": {
      "text/plain": [
       "False"
      ]
     },
     "execution_count": 2,
     "metadata": {},
     "output_type": "execute_result"
    }
   ],
   "source": [
    "\n",
    "def anagram(s,l):\n",
    "    length = 0\n",
    "    s1=''\n",
    "    for i in l:\n",
    "        length = length+len(i)\n",
    "        if i:\n",
    "            s1 +=i\n",
    "    s1=s1.lower()\n",
    "\n",
    "    s = s.replace(\" \", \"\")\n",
    "    s=s.lower()\n",
    "    if sorted(list(s)) == sorted(list(s1)):\n",
    "        return True\n",
    "    else:\n",
    "        return False\n",
    "    \n",
    "anagram(\"Jeff Goldblum\", [\"jog\", \"meld\", \"bluffs\"])"
   ]
  },
  {
   "cell_type": "markdown",
   "id": "bff6764f",
   "metadata": {},
   "source": [
    "#### Question 2:  Given an array of users, each defined by an object with the following properties: name, score, reputation create a function that sorts the array to form the correct leaderboard.\n",
    "\n",
    "The leaderboard takes into consideration the score of each user of course, but an emphasis is put on their reputation in the community, so to get the trueScore, you should add the reputation multiplied by 2 to the score.\n",
    "\n",
    "Once you know the trueScore of each user, sort the array according to it in descending order.\n",
    "\n",
    "Examples:\n",
    "\n",
    "i. leaderboards([\n",
    "  { \"name\": \"a\", \"score\": 100, \"reputation\": 20 },\n",
    "  { \"name\": \"b\", \"score\": 90, \"reputation\": 40 },\n",
    "  { \"name\": \"c\", \"score\": 115, \"reputation\": 30 },]) \n",
    "  \n",
    "➞ \n",
    "\n",
    "[{ \"name\": \"c\", \"score\": 115, \"reputation\": 30 },  # trueScore = 175\n",
    "  { \"name\": \"b\", \"score\": 90, \"reputation\": 40 },   # trueScore = 170\n",
    "  { \"name\": \"a\", \"score\": 100, \"reputation\": 20 }   # trueScore = 140]\n",
    "\n",
    "#### Answer 2:"
   ]
  },
  {
   "cell_type": "code",
   "execution_count": 3,
   "id": "2ebca5b1",
   "metadata": {},
   "outputs": [
    {
     "name": "stdout",
     "output_type": "stream",
     "text": [
      "{'name': 'c', 'score': 115, 'reputation': 30} , #trueScore = 175\n",
      "{'name': 'b', 'score': 90, 'reputation': 40} , #trueScore = 170\n",
      "{'name': 'a', 'score': 100, 'reputation': 20} , #trueScore = 140\n"
     ]
    }
   ],
   "source": [
    "def leaderboards(l):\n",
    "    p=l\n",
    "    t=[]\n",
    "    j=0\n",
    "    for i in p:\n",
    "        x=(2*i[\"reputation\"]) + i[\"score\"]\n",
    "        t.append(x)\n",
    "        i.update(trueScore = x) \n",
    "    p = sorted(p, key = lambda i: i['trueScore'],reverse=True)\n",
    "    t= sorted(t,reverse=True)\n",
    "    for i in p:\n",
    "        i.pop('trueScore')\n",
    "        print(\"{0} , #trueScore = {1}\".format(p[j], t[j]))\n",
    "        j+=1\n",
    "    \n",
    "leaderboards([\n",
    "  { \"name\": \"a\", \"score\": 100, \"reputation\": 20 },\n",
    "  { \"name\": \"b\", \"score\": 90, \"reputation\": 40 },\n",
    "  { \"name\": \"c\", \"score\": 115, \"reputation\": 30 },\n",
    "])"
   ]
  },
  {
   "cell_type": "markdown",
   "id": "b5ed5fc3",
   "metadata": {},
   "source": [
    "#### Question 3: Create a function that, given a phrase and a number of letters guessed, returns a string with hyphens - for every letter of the phrase not guessed, and each letter guessed in place.\n",
    "\n",
    "Examples:\n",
    "\n",
    "i. hangman(\"helicopter\", [\"o\", \"e\", \"s\"]) ➞ \"-e---o--e-\"\n",
    "\n",
    "ii. hangman(\"tree\", [\"r\", \"t\", \"e\"]) ➞ \"tree\"\n",
    "\n",
    "iii. hangman(\"Python rules\", [\"a\", \"n\", \"p\", \"r\", \"z\"]) ➞ \"P----n r----\"\n",
    "\n",
    "iv. hangman(\"He\"s a very naughty boy!\", [\"e\", \"a\", \"y\"]) ➞ \"-e\"- a -e-y -a----y –y!\"\n",
    "\n",
    "#### Answer 3:"
   ]
  },
  {
   "cell_type": "code",
   "execution_count": 6,
   "id": "7f397b51",
   "metadata": {},
   "outputs": [
    {
     "data": {
      "text/plain": [
       "'tree'"
      ]
     },
     "execution_count": 6,
     "metadata": {},
     "output_type": "execute_result"
    }
   ],
   "source": [
    "def hangman(s,l):\n",
    "    Temp = \"\"\n",
    "    for letter in s:\n",
    "        if letter in l:\n",
    "            Temp += letter\n",
    "        else:\n",
    "            Temp += \"-\"\n",
    "    return Temp\n",
    "    \n",
    "hangman(\"tree\", [\"r\", \"t\", \"e\"])"
   ]
  },
  {
   "cell_type": "markdown",
   "id": "ccda5c29",
   "metadata": {},
   "source": [
    "#### Question 4: The Collatz sequence is as follows:\n",
    "\n",
    "  - Start with some given integer n.\n",
    "  - If it is even, the next number will be n divided by 2.\n",
    "  - If it is odd, multiply it by 3 and add 1 to make the next number.\n",
    "  - The sequence stops when it reaches 1.\n",
    "\n",
    "According to the Collatz conjecture, it will always reach 1. If that's true, you can construct a finite sequence following the aforementioned method for any given integer.\n",
    "\n",
    "Write a function that takes in an integer n and returns the highest integer in the corresponding Collatz sequence.\n",
    "\n",
    "Examples:\n",
    "\n",
    "i. max_collatz(10) ➞ 16 (Collatz sequence: 10, 5, 16, 8, 4, 2, 1)\n",
    "\n",
    "ii. max_collatz(32) ➞ 32 (Collatz sequence: 32, 16, 8, 4, 2, 1)\n",
    "\n",
    "iii. max_collatz(85) ➞ 256 (Collatz sequence: 85, 256, 128, 64, 32, 16, 8, 4, 2, 1)\n",
    "\n",
    "\n",
    "#### Answer 4:"
   ]
  },
  {
   "cell_type": "code",
   "execution_count": 7,
   "id": "e19ddb25",
   "metadata": {},
   "outputs": [
    {
     "name": "stdout",
     "output_type": "stream",
     "text": [
      "# Collatz sequence: [85, 256]\n",
      "# Collatz sequence: [85, 256, 128]\n",
      "# Collatz sequence: [85, 256, 128, 64]\n",
      "# Collatz sequence: [85, 256, 128, 64, 32]\n",
      "# Collatz sequence: [85, 256, 128, 64, 32, 16]\n",
      "# Collatz sequence: [85, 256, 128, 64, 32, 16, 8]\n",
      "# Collatz sequence: [85, 256, 128, 64, 32, 16, 8, 4]\n",
      "# Collatz sequence: [85, 256, 128, 64, 32, 16, 8, 4, 2]\n",
      "# Collatz sequence: [85, 256, 128, 64, 32, 16, 8, 4, 2, 1]\n"
     ]
    },
    {
     "data": {
      "text/plain": [
       "256"
      ]
     },
     "execution_count": 7,
     "metadata": {},
     "output_type": "execute_result"
    }
   ],
   "source": [
    "def max_collatz(n):\n",
    "    l=[]\n",
    "    l.append(n)\n",
    "    while(n!= 1):\n",
    "        if n%2 ==0:\n",
    "            n=int(n/2)\n",
    "        else:\n",
    "            n= (3*n)+1\n",
    "        l.append(n)\n",
    "        print(\"# Collatz sequence:\",l)\n",
    "    return max(l)\n",
    "\n",
    "max_collatz(85)"
   ]
  },
  {
   "cell_type": "markdown",
   "id": "c98fea6a",
   "metadata": {},
   "source": [
    "#### Question 5: Write a function that sorts a list of integers by their digit length in descending order, then settles ties by sorting numbers with the same digit length in ascending order.\n",
    "\n",
    "Examples:\n",
    "\n",
    "i. digit_sort([77, 23, 5, 7, 101]) ➞ [101, 23, 77, 5, 7]\n",
    "\n",
    "ii. digit_sort([1, 5, 9, 2, 789, 563, 444]) ➞ [444, 563, 789, 1, 2, 5, 9]\n",
    "\n",
    "iii. digit_sort([53219, 3772, 564, 32, 1]) ➞ [53219, 3772, 564, 32, 1]\n",
    "\n",
    "\n",
    "#### Answer 5:"
   ]
  },
  {
   "cell_type": "code",
   "execution_count": 8,
   "id": "c374d763",
   "metadata": {},
   "outputs": [
    {
     "data": {
      "text/plain": [
       "['53219', '3772', '564', '32', '1']"
      ]
     },
     "execution_count": 8,
     "metadata": {},
     "output_type": "execute_result"
    }
   ],
   "source": [
    "def digit_sort(l):\n",
    "    l=sorted(l,reverse = True)\n",
    "    l = [str(i) for i in l]\n",
    "    i= len(l)\n",
    "    for k in range (i):\n",
    "        for j in range(0,i-1):\n",
    "            if len(l[j])==len(l[j+1]):\n",
    "                if l[j]>l[j+1]:\n",
    "                    temp = l[j]\n",
    "                    l[j] =l[j+1]\n",
    "                    l[j+1]=temp\n",
    "    return l\n",
    "\n",
    "digit_sort([53219, 3772, 564, 32, 1])"
   ]
  }
 ],
 "metadata": {
  "kernelspec": {
   "display_name": "Python 3",
   "language": "python",
   "name": "python3"
  },
  "language_info": {
   "codemirror_mode": {
    "name": "ipython",
    "version": 3
   },
   "file_extension": ".py",
   "mimetype": "text/x-python",
   "name": "python",
   "nbconvert_exporter": "python",
   "pygments_lexer": "ipython3",
   "version": "3.7.10"
  }
 },
 "nbformat": 4,
 "nbformat_minor": 5
}
