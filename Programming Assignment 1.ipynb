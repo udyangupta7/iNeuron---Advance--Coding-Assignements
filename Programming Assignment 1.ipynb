{
 "cells": [
  {
   "cell_type": "markdown",
   "id": "bedbaefa",
   "metadata": {},
   "source": [
    "# Programming Assignment 1:\n",
    "\n",
    "#### Q1: Write a function that takes a list of lists and returns the value of all of the symbols in it, where each symbol adds or takes something from the total score. Symbol values: # = 5, O = 3, X = 1, ! = -1, !! = -3, !!! = -5.\n",
    "\n",
    "Ex - A list of lists containing 2 #s, a O, and a !!! would equal (0 + 5 + 5 + 3 - 5) 8.\n",
    "\n",
    "Ex - If the final score is negative, return 0 (e.g. 3 #s, 3 !!s, 2 !!!s and a X would be (0 + 5 + 5 + 5 - 3 - 3 - 3 - 5 - 5 + 1) -3, so return 0.\n",
    "\n",
    "Ex:\n",
    "\n",
    "i. check_score([\n",
    "  [\"#\", \"!\"],\n",
    "  [\"!!\", \"X\"]\n",
    "]) ➞ 2\n",
    "\n",
    "ii. check_score([\n",
    "  [\"!!!\", \"O\", \"!\"],\n",
    "  [\"X\", \"#\", \"!!!\"],\n",
    "  [\"!!\", \"X\", \"O\"]\n",
    "]) ➞ 0\n"
   ]
  },
  {
   "cell_type": "code",
   "execution_count": 128,
   "id": "33654301",
   "metadata": {},
   "outputs": [
    {
     "name": "stdout",
     "output_type": "stream",
     "text": [
      "The nested list is -  [['!!!', 'O', '!'], ['X', '#', '!!!'], ['!!', 'X', 'O']]\n",
      "the value of all of the symbols: 0\n"
     ]
    }
   ],
   "source": [
    "def check_score(x):\n",
    "    dict = {\"#\":5, \"O\":3, \"X\":1, \"!\":-1, \"!!\":-3 ,\"!!!\":-5}\n",
    "    print(\"The nested list is - \",x)\n",
    "    lst2 = []\n",
    "    for i in lst:\n",
    "        for j in i:\n",
    "            lst2.append(j)\n",
    "    count = 0\n",
    "    for number in lst2:\n",
    "        for key,value in dict.items():\n",
    "            if key == number:\n",
    "                count+=value\n",
    "    print(\"the value of all of the symbols:\",end=\" \")\n",
    "    if count < 0: print(\"0\")\n",
    "    else: print(count)\n",
    "check_score([[\"!!!\", \"O\", \"!\"],  [\"X\", \"#\", \"!!!\"],  [\"!!\", \"X\", \"O\"]])"
   ]
  },
  {
   "cell_type": "markdown",
   "id": "c40c4fe8",
   "metadata": {},
   "source": [
    "#### Q2: Create a function that takes a variable number of arguments, each argument representing the number of items in a group, and returns the number of permutations (combinations) of items that you could get by taking one item from each group.\n",
    "\n",
    "Ex:\n",
    "\n",
    "i. combinations(2, 3) ➞ 6\n",
    "\n",
    "ii. combinations(3, 7, 4) ➞ 84\n",
    "\n",
    "iii. combinations(2, 3, 4, 5) ➞ 120\n",
    "\n",
    "#### A2:"
   ]
  },
  {
   "cell_type": "code",
   "execution_count": 86,
   "id": "c9f33e53",
   "metadata": {},
   "outputs": [
    {
     "name": "stdout",
     "output_type": "stream",
     "text": [
      "Enter the range of the group: 4\n",
      "Enter a number: 2\n",
      "Enter a number: 3\n",
      "Enter a number: 4\n",
      "Enter a number: 5\n",
      "All possible permutations are:  120\n"
     ]
    }
   ],
   "source": [
    "def combinations():\n",
    "    n = int(input(\"Enter the range of the group: \"))\n",
    "    lst = [(int(input(\"Enter a number: \"))) for x in range(n)]\n",
    "    count = 1\n",
    "    for i in lst:\n",
    "        count*= i\n",
    "    print(\"All possible permutations are: \",count)\n",
    "combinations()"
   ]
  },
  {
   "cell_type": "markdown",
   "id": "a4266f59",
   "metadata": {},
   "source": [
    "#### Q3: Create a function that takes a string as an argument and returns the Morse code equivalent.\n",
    "\n",
    "Ex:\n",
    "\n",
    "i. encode_morse(\"EDABBIT CHALLENGE\") ➞ \". -.. .- -... -... .. -   -.-. .... .- .-.. .-.. . -. --. .\"\n",
    "\n",
    "ii. encode_morse(\"HELP ME !\") ➞ \".... . .-.. .--.   -- .   -.-.--\"\n",
    "\n",
    "This dictionary can be used for coding:\n",
    "char_to_dots = {\n",
    "  'A': '.-', 'B': '-...', 'C': '-.-.', 'D': '-..', 'E': '.', 'F': '..-.',\n",
    "  'G': '--.', 'H': '....', 'I': '..', 'J': '.---', 'K': '-.-', 'L': '.-..',\n",
    "  'M': '--', 'N': '-.', 'O': '---', 'P': '.--.', 'Q': '--.-', 'R': '.-.',\n",
    "  'S': '...', 'T': '-', 'U': '..-', 'V': '...-', 'W': '.--', 'X': '-..-',\n",
    "  'Y': '-.--', 'Z': '--..', ' ': ' ', '0': '-----',\n",
    "  '1': '.----', '2': '..---', '3': '...--', '4': '....-', '5': '.....',\n",
    "  '6': '-....', '7': '--...', '8': '---..', '9': '----.',\n",
    "  '&': '.-...', \"'\": '.----.', '@': '.--.-.', ')': '-.--.-', '(': '-.--.',\n",
    "  ':': '---...', ',': '--..--', '=': '-...-', '!': '-.-.--', '.': '.-.-.-',\n",
    "  '-': '-....-', '+': '.-.-.', '\"': '.-..-.', '?': '..--..', '/': '-..-.'\n",
    "}\n",
    "\n",
    "#### A3:"
   ]
  },
  {
   "cell_type": "code",
   "execution_count": 124,
   "id": "ca6b4297",
   "metadata": {},
   "outputs": [
    {
     "name": "stdout",
     "output_type": "stream",
     "text": [
      "Enter a string: HELP ME !\n",
      "The morse code for HELP ME ! is:  ......-...--. --. -.-.--\n"
     ]
    }
   ],
   "source": [
    "def encode_morse(string):\n",
    "    char_to_dots = { 'A': '.-', 'B': '-...', 'C': '-.-.', 'D': '-..', 'E': '.', 'F': '..-.', 'G': '--.', 'H': '....', 'I': '..', 'J': '.---', 'K': '-.-', 'L': '.-..', 'M': '--', 'N': '-.', 'O': '---', 'P': '.--.', 'Q': '--.-', 'R': '.-.', 'S': '...', 'T': '-', 'U': '..-', 'V': '...-', 'W': '.--', 'X': '-..-', 'Y': '-.--', 'Z': '--..', ' ': ' ', '0': '-----', '1': '.----', '2': '..---', '3': '...--', '4': '....-', '5': '.....', '6': '-....', '7': '--...', '8': '---..', '9': '----.', '&': '.-...', \"'\": '.----.', '@': '.--.-.', ')': '-.--.-', '(': '-.--.', ':': '---...', ',': '--..--', '=': '-...-', '!': '-.-.--', '.': '.-.-.-', '-': '-....-', '+': '.-.-.', '\"': '.-..-.', '?': '..--..', '/': '-..-.' }\n",
    "    lst = \"\"\n",
    "    for character in string:\n",
    "        for key,value in char_to_dots.items():\n",
    "            if character == key:\n",
    "                lst+=value\n",
    "    print(\"The morse code for\",string,\"is: \",lst)\n",
    "encode_morse(string = str(input(\"Enter a string: \")).upper())"
   ]
  },
  {
   "cell_type": "markdown",
   "id": "664bb0a3",
   "metadata": {},
   "source": [
    "#### Q4:  Write a function that takes a number and returns True if it's a prime; False otherwise. The number can be 2^64-1 (2 to the power of 63, not XOR). With the standard technique it would be O(2^64-1), which is much too large for the 10 second time limit.\n",
    "\n",
    "Examples\n",
    "\n",
    "i. prime(7) ➞ True\n",
    "\n",
    "ii. prime(56963) ➞ True\n",
    "\n",
    "iii. prime(5151512515524) ➞ False\n",
    "\n",
    "#### A4:"
   ]
  },
  {
   "cell_type": "code",
   "execution_count": 156,
   "id": "ddd8368a",
   "metadata": {},
   "outputs": [
    {
     "name": "stdout",
     "output_type": "stream",
     "text": [
      "Enter the number and the power seperated by a comma: 342\n"
     ]
    },
    {
     "data": {
      "text/plain": [
       "'Not Prime'"
      ]
     },
     "execution_count": 156,
     "metadata": {},
     "output_type": "execute_result"
    }
   ],
   "source": [
    "def Prime():\n",
    "    import math\n",
    "    number = int(input(\"Enter the number and the power seperated by a comma: \"))\n",
    "    if number > 1: \n",
    "        for x in range (2, number) :\n",
    "            if number % x == 0:\n",
    "                return \"Not Prime\"\n",
    "        return \"is Prime\"\n",
    "    else:\n",
    "        return \"Not Prime\"\n",
    "Prime()"
   ]
  },
  {
   "cell_type": "code",
   "execution_count": null,
   "id": "10f14b1b",
   "metadata": {},
   "outputs": [],
   "source": [
    "\n",
    "    "
   ]
  },
  {
   "cell_type": "markdown",
   "id": "7672c61b",
   "metadata": {},
   "source": [
    "#### Q5:  Create a function that converts a word to a bitstring and then to a boolean list based on the following criteria:\n",
    "\n",
    "    1. Locate the position of the letter in the English alphabet (from 1 to 26).\n",
    "    2. Odd positions will be represented as 1 and 0 otherwise.\n",
    "    3. Convert the represented positions to boolean values, 1 for True and 0 for False.\n",
    "    4. Store the conversions into an array.\n",
    "\n",
    "Ex:\n",
    "\n",
    "i. to_boolean_list(\"deep\") ➞ [False, True, True, False] - \n",
    "\n",
    "deep converts to 0110\n",
    "\n",
    "d is the 4th alphabet - 0\n",
    "\n",
    "e is the 5th alphabet - 1\n",
    "\n",
    "e is the 5th alphabet - 1\n",
    "\n",
    "p is the 16th alphabet - 0\n",
    "\n",
    "to_boolean_list(\"loves\") ➞ [False, True, False, True, True]\n",
    "\n",
    "to_boolean_list(\"tesh\") ➞ [False, True, True, False]\n",
    "\n",
    "#### A5:"
   ]
  },
  {
   "cell_type": "code",
   "execution_count": 239,
   "id": "dd56f8ba",
   "metadata": {},
   "outputs": [
    {
     "name": "stdout",
     "output_type": "stream",
     "text": [
      "Enter a word: loves\n",
      "The converted bitstring is - 01011\n",
      "The boolean list is - ['False', 'True', 'False', 'True', 'True']\n"
     ]
    }
   ],
   "source": [
    "def to_boolean_list():\n",
    "    alphabet = {'a': 0, 'b': 1, 'c': 2, 'd': 3, 'e': 4, \n",
    "                'f': 5, 'g': 6, 'h': 7, 'i': 8, 'j': 9, 'k': 10, \n",
    "                'l': 11, 'm': 12, 'n': 13, 'o': 14, 'p': 15, 'q': 16, \n",
    "                'r': 17, 's': 18, 't': 19, 'u': 20, 'v': 21, 'w': 22, \n",
    "                'x': 23, 'y': 24, 'z': 25}\n",
    "    string,converted,count = str(input(\"Enter a word: \")),\"\",0\n",
    "    for character in string:\n",
    "        for keys,values in alphabet.items():\n",
    "            if character==keys:\n",
    "                if values%2 == 0: converted+=\"1\"\n",
    "                else: converted+=\"0\"\n",
    "    print(\"The converted bitstring is -\",converted)\n",
    "    converted_list = []\n",
    "    for i in converted:\n",
    "        if i == \"1\": converted_list.append(\"True\")\n",
    "        elif i == \"0\": converted_list.append(\"False\")\n",
    "    print(\"The boolean list is -\",converted_list)\n",
    "to_boolean_list()"
   ]
  }
 ],
 "metadata": {
  "kernelspec": {
   "display_name": "Python 3",
   "language": "python",
   "name": "python3"
  },
  "language_info": {
   "codemirror_mode": {
    "name": "ipython",
    "version": 3
   },
   "file_extension": ".py",
   "mimetype": "text/x-python",
   "name": "python",
   "nbconvert_exporter": "python",
   "pygments_lexer": "ipython3",
   "version": "3.8.8"
  }
 },
 "nbformat": 4,
 "nbformat_minor": 5
}
