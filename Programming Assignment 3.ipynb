{
 "cells": [
  {
   "cell_type": "markdown",
   "id": "f665ffb1",
   "metadata": {},
   "source": [
    "# Programming Assignment 3:\n",
    "\n",
    "#### Q1: Create a function to perform basic arithmetic operations that includes addition, subtraction, multiplication and division on a string number (e.g. \"12 + 24\" or \"23 - 21\" or \"12 // 12\" or \"12 * 21\"). Here, we have the first number followed by a space, operator followed by another space and then the second number. For the challenge, we are going to have only two numbers between 1 valid operator. The return value should be a number.\n",
    "\n",
    "Note: eval() is not allowed. In case of division, whenever the second number equals \"0\" return -1.\n",
    "\n",
    "Ex:\n",
    "\n",
    "\"15 // 0\"  ➞ -1\n",
    "\n",
    "Ex:\n",
    "\n",
    "1. arithmetic_operation(\"12 + 12\") ➞ 24 // 12 + 12 = 24\n",
    "\n",
    "2. arithmetic_operation(\"12 - 12\") ➞ 24 // 12 - 12 = 0\n",
    "\n",
    "3. arithmetic_operation(\"12 * 12\") ➞ 144 // 12 * 12 = 144\n",
    "\n",
    "4. arithmetic_operation(\"12 // 0\") ➞ -1 // 12 / 0 = -1\n",
    "\n",
    "#### A1:"
   ]
  },
  {
   "cell_type": "code",
   "execution_count": 88,
   "id": "0f502b4c",
   "metadata": {},
   "outputs": [
    {
     "name": "stdout",
     "output_type": "stream",
     "text": [
      "Enter a string consisting of two numbers and an arithemtic operation consisting of +, -, * or //, all seperated by a space:12 // 3\n",
      "12 // 3 = 4\n"
     ]
    }
   ],
   "source": [
    "try:\n",
    "    def arithmetic_operation():\n",
    "        num_1,operator,num_2 = input(\"Enter a string consisting of two numbers and an arithemtic operation consisting of +, -, * or //, all seperated by a space:\").split(\" \")\n",
    "        num_1, num_2 = int(num_1),int(num_2)\n",
    "        if operator == \"+\":\n",
    "            print(num_1,\"+\",num_2,\"=\",num_1+num_2)\n",
    "        elif operator == \"//\":\n",
    "            if num_2 <= 0:\n",
    "                return -1\n",
    "            else: print(num_1,\"//\",num_2,\"=\",num_1//num_2)\n",
    "        elif operator == \"-\": print(num_1,\"-\",num_2,\"=\",num_1-num_2)\n",
    "        elif operator == \"*\": print(num_1,\"*\",num_2,\"=\",num_1*num_2)\n",
    "        else: print(\"Invalid arithmetic operation entered. Run the program again.\")\n",
    "except (SyntaxError, KeyboardInterrupt, EOFError, ValueError, ArithmeticError, ImportError, IOError) as e:\n",
    "    print(\"Error is -\",e)\n",
    "    \n",
    "arithmetic_operation()"
   ]
  },
  {
   "cell_type": "markdown",
   "id": "e50e378e",
   "metadata": {},
   "source": [
    "#### Q2: Write a function that takes the coordinates of three points in the form of a 2d array and returns the perimeter of the triangle. The given points are the vertices of a triangle on a two-dimensional plane.\n",
    "\n",
    "Ex:\n",
    "\n",
    "1. perimeter( [ [15, 7], [5, 22], [11, 1] ] ) ➞ 47.08\n",
    "\n",
    "2. perimeter( [ [0, 0], [0, 1], [1, 0] ] ) ➞ 3.42\n",
    "\n",
    "3. perimeter( [ [-10, -10], [10, 10 ], [-10, 10] ] ) ➞ 68.28\n",
    "\n",
    "#### A2:"
   ]
  },
  {
   "cell_type": "code",
   "execution_count": 16,
   "id": "f1a571fa",
   "metadata": {},
   "outputs": [
    {
     "name": "stdout",
     "output_type": "stream",
     "text": [
      "Maximum Perimeter is: 48\n"
     ]
    }
   ],
   "source": [
    "try:\n",
    "    def perimeter(arr):\n",
    "        maximum = 0\n",
    "        n = len(arr)\n",
    "        for i in range(n - 2):\n",
    "            for j in range(i + 1, n - 1):\n",
    "                for k in range(j + 1, n):\n",
    "                    a = arr[i]\n",
    "                    b = arr[j]\n",
    "                    c = arr[k]\n",
    "                    if(a < b + c and b < a + c and c < a + b):\n",
    "                        maximum = max(maximum, a + b + c)\n",
    "        if(maximum == 0): print(\"Triangle formation is not possible\")\n",
    "        else: print(\"Maximum Perimeter is: \"+ str(maximum))\n",
    "    arr = [[15, 7],[5, 22],[11, 1]]\n",
    "    l = []\n",
    "    for i in arr:\n",
    "        for j in i:\n",
    "            l.append(j)\n",
    "    arr = perimeter(l)\n",
    "except (SyntaxError, KeyboardInterrupt, EOFError, ValueError, ArithmeticError, ImportError, IOError) as e:\n",
    "    print(\"Error is -\",e)"
   ]
  },
  {
   "cell_type": "markdown",
   "id": "6b59d439",
   "metadata": {},
   "source": [
    "#### Q3: A city skyline can be represented as a 2-D list with 1s representing buildings. In the example below, the height of the tallest building is 4 (second-most right column):\n",
    "\n",
    "[[0, 0, 0, 0, 0, 0],\n",
    "\n",
    "[0, 0, 0, 0, 1, 0],\n",
    "\n",
    "[0, 0, 1, 0, 1, 0],\n",
    "\n",
    "[0, 1, 1, 1, 1, 0],\n",
    "\n",
    "[1, 1, 1, 1, 1, 1]]\n",
    "\n",
    "Create a function that takes a skyline (2-D list of 0's and 1's) and returns the height of the tallest skyscraper.\n",
    "\n",
    "Ex:\n",
    "\n",
    "1. tallest_skyscraper([\n",
    "\n",
    "  [0, 0, 0, 0],\n",
    "  \n",
    "  [0, 1, 0, 0],\n",
    "  \n",
    "  [0, 1, 1, 0],\n",
    "  \n",
    "  [1, 1, 1, 1]\n",
    "]) ➞ 3\n",
    "\n",
    "\n",
    "2. tallest_skyscraper([\n",
    "\n",
    "  [0, 1, 0, 0],\n",
    "  \n",
    "  [0, 1, 0, 0],\n",
    "  \n",
    "  [0, 1, 1, 0],\n",
    "  \n",
    "  [1, 1, 1, 1]\n",
    "]) ➞ 4\n",
    "\n",
    "\n",
    "3. tallest_skyscraper([\n",
    "\n",
    "  [0, 0, 0, 0],\n",
    "  \n",
    "  [0, 0, 0, 0],\n",
    "  \n",
    "  [1, 1, 1, 0],\n",
    "  \n",
    "  [1, 1, 1, 1]\n",
    "]) ➞ 2\n",
    "\n",
    "#### A3:"
   ]
  },
  {
   "cell_type": "code",
   "execution_count": 235,
   "id": "433ff081",
   "metadata": {
    "scrolled": false
   },
   "outputs": [],
   "source": [
    "print(\"Enter the entries column-wise:\")\n",
    "matrix = []\n",
    "for i in range(4):          \n",
    "    a = []\n",
    "    for j in range(4):\n",
    "        while True:\n",
    "            entry = int(input(\"Enter either 1 or 0:\"))\n",
    "            if entry == 0 or entry == 1:\n",
    "                a.append(entry)\n",
    "                break\n",
    "            else:\n",
    "                print(\"Wrong entry. Try again.\")\n",
    "    matrix.append(a)\n",
    "print(\"\\n4 buildings and their heights are:\")\n",
    "for i in range(4):\n",
    "    for j in range(4):\n",
    "        print(matrix[j][i],end = \"  \")\n",
    "    print( )\n",
    "from numpy import sum\n",
    "print(\"The height of the tallest skyscraper is: \",max(sum(matrix,1)))"
   ]
  },
  {
   "cell_type": "code",
   "execution_count": 240,
   "id": "b78d76d2",
   "metadata": {
    "scrolled": false
   },
   "outputs": [
    {
     "name": "stdout",
     "output_type": "stream",
     "text": [
      "Enter the entries column-wise:\n",
      "Enter either 1 or 0:0\n",
      "Enter either 1 or 0:1\n",
      "Enter either 1 or 0:1\n",
      "Enter either 1 or 0:1\n",
      "Enter either 1 or 0:1\n",
      "Enter either 1 or 0:1\n",
      "Enter either 1 or 0:0\n",
      "Enter either 1 or 0:0\n",
      "Enter either 1 or 0:0\n",
      "Enter either 1 or 0:0\n",
      "Enter either 1 or 0:0\n",
      "Enter either 1 or 0:1\n",
      "Enter either 1 or 0:1\n",
      "Enter either 1 or 0:0\n",
      "Enter either 1 or 0:0\n",
      "Enter either 1 or 0:0\n",
      "\n",
      "4 buildings and their heights are:\n",
      "0  1  0  1  \n",
      "1  1  0  0  \n",
      "1  0  0  0  \n",
      "1  0  1  0  \n",
      "\n",
      "The height of the tallest skyscraper is: 3\n"
     ]
    }
   ],
   "source": [
    "try:\n",
    "    def tallest_skyscraper():\n",
    "        print(\"Enter the entries column-wise:\")\n",
    "        matrix = []\n",
    "        for i in range(4):          \n",
    "            a = []\n",
    "            for j in range(4):\n",
    "                while True:\n",
    "                    entry = int(input(\"Enter either 1 or 0:\"))\n",
    "                    if entry == 0 or entry == 1:\n",
    "                        a.append(entry)\n",
    "                        break\n",
    "                    else:\n",
    "                        print(\"Wrong entry. Try again.\")\n",
    "            matrix.append(a)\n",
    "        print(\"\\n4 buildings and their heights are:\")\n",
    "        for i in range(4):\n",
    "            for j in range(4):\n",
    "                print(matrix[j][i],end = \"  \")\n",
    "            print( )\n",
    "        from numpy import sum\n",
    "        print(\"\\nThe height of the tallest skyscraper is:\",max(sum(matrix,1)))\n",
    "except (SyntaxError, KeyboardInterrupt, EOFError, ValueError, ArithmeticError, ImportError, IOError) as e:\n",
    "    print(\"Error is -\",e)\n",
    "tallest_skyscraper()"
   ]
  },
  {
   "cell_type": "markdown",
   "id": "beda65f8",
   "metadata": {},
   "source": [
    "#### Q4: A financial institution provides professional services to banks and claims charges from the customers based on the number of man-days provided. Internally, it has set a scheme to motivate and reward staff to meet and exceed targeted billable utilization and revenues by paying a bonus for each day claimed from customers in excess of a threshold target.\n",
    "\n",
    "This quarterly scheme is calculated with a threshold target of 32 days per quarter, and the incentive payment for each billable day in excess of such threshold target is shown as follows:\n",
    "\n",
    "\n",
    "Days\t         -->                    Bonus\n",
    "\n",
    "0 to 32 days       -->      SGD$0 per billable day\n",
    "\n",
    "33 to 40 days\t   -->      SGD$325 per billable day\n",
    "\n",
    "41 to 48 days\t  -->       SGD$550 per billable day\n",
    "\n",
    "Greater than 48 days  -->    SGD$600 per billable day\n",
    "\n",
    "Please note that incentive payment is calculated progressively. As an example, if an employee reached total billable days of 45 in a quarter, his/her incentive payment is computed as -->   32 * 0 + 8 * 325 + 5 * 550 = 5350\n",
    "\n",
    "Write a function to read the billable days of an employee and return the bonus he/she has obtained in that quarter.\n",
    "\n",
    "Ex:\n",
    "\n",
    "1. bonus(15) ➞ 0\n",
    "\n",
    "2. bonus(37) ➞ 1625\n",
    "\n",
    "3. bonus(50) ➞ 8200\n",
    "\n",
    "#### A4:"
   ]
  },
  {
   "cell_type": "code",
   "execution_count": 45,
   "id": "4cbc6867",
   "metadata": {},
   "outputs": [
    {
     "name": "stdout",
     "output_type": "stream",
     "text": [
      "Enter total number of billable days: 50\n",
      "The bonus employee has obtained in 2 quarter(s) is - 8200\n"
     ]
    }
   ],
   "source": [
    "try:\n",
    "    def bonus(days):\n",
    "        total_incentives = 0\n",
    "        for day in range(0,days+1):\n",
    "            if day >= 0 and day <= 32:total_incentives+=(i*0)\n",
    "            elif day >= 33 and day <= 40:total_incentives+=325\n",
    "            elif day >= 41 and day <= 48: total_incentives+= 550\n",
    "            else: total_incentives+=600\n",
    "        for total_quarters in range(0,days+1):\n",
    "            if total_quarters <= 32: quarters = 1\n",
    "            elif total_quarters >= 33 and total_quarters <= 64: quarters = 2\n",
    "            elif total_quarters >= 65 and total_quarters <= 96: quarters = 3\n",
    "            elif total_quarters >= 97 and total_quarters <= 128: quarters = 4\n",
    "        print(\"The bonus employee has obtained in\", quarters,\"quarter(s) is -\",total_incentives)\n",
    "    bonus(days = int(input(\"Enter total number of billable days: \")))\n",
    "except (SyntaxError, KeyboardInterrupt, EOFError, ValueError, ArithmeticError, ImportError, IOError) as e:\n",
    "    print(\"Error is -\",e)"
   ]
  },
  {
   "cell_type": "markdown",
   "id": "35925ada",
   "metadata": {},
   "source": [
    "#### Q5: A number is said to be Disarium if the sum of its digits raised to their respective positions is the number itself. Create a function that determines whether a number is a Disarium or not.\n",
    "\n",
    "Ex:\n",
    "\n",
    "1. is_disarium(75) ➞ False (7^1 + 5^2 = 7 + 25 = 32)\n",
    "\n",
    "2. is_disarium(135) ➞ True (1^1 + 3^2 + 5^3 = 1 + 9 + 125 = 135)\n",
    "\n",
    "3. is_disarium(544) ➞ False\n",
    "\n",
    "4. is_disarium(518) ➞ True\n",
    "\n",
    "5. is_disarium(466) ➞ False\n",
    "\n",
    "6. is_disarium(8) ➞ True\n",
    "\n",
    "#### A5:"
   ]
  },
  {
   "cell_type": "code",
   "execution_count": 157,
   "id": "21d9d2fb",
   "metadata": {},
   "outputs": [
    {
     "name": "stdout",
     "output_type": "stream",
     "text": [
      "Enter a number: 125\n",
      "False\n"
     ]
    }
   ],
   "source": [
    "try:\n",
    "    def calculatelength(n):  \n",
    "        length = 0\n",
    "        while(n != 0):  \n",
    "            length = length + 1  \n",
    "            n = n//10  \n",
    "        return length \n",
    "    num = int(input(\"Enter a number: \")) \n",
    "    rem = sum = 0  \n",
    "    len = calculatelength(num) \n",
    "    n = num\n",
    "    while(num > 0):  \n",
    "        rem = num%10  \n",
    "        sum = sum + int(rem**len)  \n",
    "        num = num//10  \n",
    "        len = len - 1   \n",
    "    if(sum == n):  \n",
    "        print(\"True\")\n",
    "    else:  \n",
    "        print(\"False\")    \n",
    "except (SyntaxError, KeyboardInterrupt, EOFError, ValueError, ArithmeticError, ImportError, IOError) as e:\n",
    "    print(\"Error is -\",e)\n",
    "    "
   ]
  }
 ],
 "metadata": {
  "kernelspec": {
   "display_name": "Python 3",
   "language": "python",
   "name": "python3"
  },
  "language_info": {
   "codemirror_mode": {
    "name": "ipython",
    "version": 3
   },
   "file_extension": ".py",
   "mimetype": "text/x-python",
   "name": "python",
   "nbconvert_exporter": "python",
   "pygments_lexer": "ipython3",
   "version": "3.8.8"
  }
 },
 "nbformat": 4,
 "nbformat_minor": 5
}
